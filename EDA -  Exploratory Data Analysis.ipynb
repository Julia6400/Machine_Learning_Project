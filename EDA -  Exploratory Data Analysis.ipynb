{
 "cells": [
  {
   "cell_type": "markdown",
   "metadata": {},
   "source": [
    "## EDA and data access"
   ]
  },
  {
   "cell_type": "code",
   "execution_count": 1,
   "metadata": {},
   "outputs": [],
   "source": [
    "import pandas as pd\n",
    "import matplotlib as plt"
   ]
  },
  {
   "cell_type": "code",
   "execution_count": 2,
   "metadata": {},
   "outputs": [],
   "source": [
    "test_data = pd.read_csv(\"Data/test_data.csv\", header=None)\n",
    "train_data = pd.read_csv(\"Data/train_data.csv\", header=None)\n",
    "train_labels = pd.read_csv(\"Data/train_labels.csv\", header=None)"
   ]
  },
  {
   "cell_type": "code",
   "execution_count": 3,
   "metadata": {},
   "outputs": [],
   "source": [
    "data = [test_data, train_data, train_labels]\n",
    "data_names = [\"test_data\", \"train_data\", \"train_labels\"]"
   ]
  },
  {
   "cell_type": "code",
   "execution_count": 4,
   "metadata": {},
   "outputs": [],
   "source": [
    "def data_info(df: list, name: list) -> None:\n",
    "    for d, n in zip(df, name):\n",
    "        print(n, '\\n')\n",
    "        d.info()\n",
    "        print('\\n')"
   ]
  },
  {
   "cell_type": "code",
   "execution_count": 5,
   "metadata": {},
   "outputs": [
    {
     "name": "stdout",
     "output_type": "stream",
     "text": [
      "Describing data with info() \n",
      "\n",
      "test_data \n",
      "\n",
      "<class 'pandas.core.frame.DataFrame'>\n",
      "RangeIndex: 1250 entries, 0 to 1249\n",
      "Columns: 10000 entries, 0 to 9999\n",
      "dtypes: float64(10000)\n",
      "memory usage: 95.4 MB\n",
      "\n",
      "\n",
      "train_data \n",
      "\n",
      "<class 'pandas.core.frame.DataFrame'>\n",
      "RangeIndex: 3750 entries, 0 to 3749\n",
      "Columns: 10000 entries, 0 to 9999\n",
      "dtypes: float64(10000)\n",
      "memory usage: 286.1 MB\n",
      "\n",
      "\n",
      "train_labels \n",
      "\n",
      "<class 'pandas.core.frame.DataFrame'>\n",
      "RangeIndex: 3750 entries, 0 to 3749\n",
      "Data columns (total 1 columns):\n",
      " #   Column  Non-Null Count  Dtype\n",
      "---  ------  --------------  -----\n",
      " 0   0       3750 non-null   int64\n",
      "dtypes: int64(1)\n",
      "memory usage: 29.4 KB\n",
      "\n",
      "\n"
     ]
    }
   ],
   "source": [
    "print(\"Describing data with info() \\n\")\n",
    "data_info(data, data_names)"
   ]
  },
  {
   "cell_type": "code",
   "execution_count": 6,
   "metadata": {},
   "outputs": [],
   "source": [
    "def data_describe(df: list, name: list) -> None:\n",
    "    for d, n in zip(df, name):\n",
    "        print(n, '\\n')\n",
    "        print(d.describe())\n",
    "        print('\\n')"
   ]
  },
  {
   "cell_type": "code",
   "execution_count": 7,
   "metadata": {},
   "outputs": [
    {
     "name": "stdout",
     "output_type": "stream",
     "text": [
      "Describing data with describe() \n",
      "\n",
      "test_data \n",
      "\n",
      "              0            1              2              3             4     \\\n",
      "count  1250.000000  1250.000000    1250.000000    1250.000000   1250.000000   \n",
      "mean      6.892262    24.231871     691.035041    -923.186420    472.853216   \n",
      "std     279.865345   208.490530   43757.863316   57126.680674  21901.701715   \n",
      "min   -1105.426000  -649.565000 -155113.836000 -184240.160000 -91291.593000   \n",
      "25%    -176.906000  -116.729500  -27510.364750  -41059.084000 -13750.416000   \n",
      "50%      12.362000    20.508000    -444.999500    -397.729500    765.368500   \n",
      "75%     185.231250   171.514250   31295.237500   36278.893000  14594.061750   \n",
      "max    1053.495000   736.906000  141244.534000  177561.749000  60844.690000   \n",
      "\n",
      "              5            6            7            8            9     ...  \\\n",
      "count  1250.000000  1250.000000  1250.000000  1250.000000  1250.000000  ...   \n",
      "mean     -5.603389    -8.430038    18.087694    45.521371     5.532402  ...   \n",
      "std     713.053055   920.126198   878.797561   522.835391   228.835834  ...   \n",
      "min   -2035.416000 -2908.191000 -2716.201000 -1637.602000  -841.328000  ...   \n",
      "25%    -520.422750  -635.170750  -562.046500  -343.264000  -154.387000  ...   \n",
      "50%      -8.634000    38.824500     6.567500    42.814500    13.917000  ...   \n",
      "75%     493.204250   625.198250   613.078500   406.646750   161.198250  ...   \n",
      "max    2397.488000  2987.201000  2916.440000  1765.077000   684.350000  ...   \n",
      "\n",
      "              9990         9991         9992         9993         9994  \\\n",
      "count  1250.000000  1250.000000  1250.000000  1250.000000  1250.000000   \n",
      "mean     11.476222    33.046902    14.964225     1.617977     0.966285   \n",
      "std     269.321713   545.254843   279.002383   484.089443   811.995519   \n",
      "min    -754.360000 -2337.359000  -843.832000 -1660.371000 -3048.856000   \n",
      "25%    -178.323000  -326.482750  -177.293750  -334.303250  -533.827500   \n",
      "50%      12.929500    14.458000    18.659500     3.275500    -7.966500   \n",
      "75%     199.985000   381.024250   205.077500   335.198500   573.268250   \n",
      "max    1093.874000  2010.261000   914.288000  1647.605000  2444.526000   \n",
      "\n",
      "              9995         9996         9997         9998         9999  \n",
      "count  1250.000000  1250.000000  1250.000000  1250.000000  1250.000000  \n",
      "mean     27.937748    17.698405    -5.434074     2.335376    18.155565  \n",
      "std     668.026761   205.254268   795.507890   618.042044   777.694783  \n",
      "min   -1897.451000  -656.654000 -2452.794000 -2080.857000 -2991.225000  \n",
      "25%    -395.463000  -128.044750  -539.452750  -416.250500  -510.043500  \n",
      "50%      26.660500    25.876000    11.653000    -1.106000    26.721500  \n",
      "75%     465.582000   157.331750   548.572500   424.111750   554.481750  \n",
      "max    2412.412000   610.140000  2354.781000  1989.205000  2157.461000  \n",
      "\n",
      "[8 rows x 10000 columns]\n",
      "\n",
      "\n",
      "train_data \n",
      "\n",
      "              0            1              2              3             4     \\\n",
      "count  3750.000000  3750.000000    3750.000000    3750.000000   3750.000000   \n",
      "mean     30.644135     9.080955     169.679419     811.083532   -186.008805   \n",
      "std     286.172414   213.166659   43665.003613   57123.457110  21942.466227   \n",
      "min    -989.450000  -859.922000 -163336.428000 -243844.632000 -77566.109000   \n",
      "25%    -163.781750  -135.343500  -29284.119500  -38028.429000 -14426.799500   \n",
      "50%      35.478500     2.680500    1181.698500     980.588000   -154.835000   \n",
      "75%     215.780500   156.095750   29630.914500   40561.960250  14515.833000   \n",
      "max    1224.394000   722.868000  177744.241000  215372.854000  86287.955000   \n",
      "\n",
      "              5            6            7            8            9     ...  \\\n",
      "count  3750.000000  3750.000000  3750.000000  3750.000000  3750.000000  ...   \n",
      "mean     25.717789    24.918118    19.061259    14.826002    14.970447  ...   \n",
      "std     711.556331   898.109174   868.676044   532.727247   236.749501  ...   \n",
      "min   -2414.196000 -3227.681000 -3151.321000 -1792.781000  -794.271000  ...   \n",
      "25%    -448.696750  -590.170250  -562.956500  -349.689750  -144.157750  ...   \n",
      "50%      13.931500    13.674000    16.750500     9.731000    11.159500  ...   \n",
      "75%     506.893250   630.490750   608.698000   383.110500   179.768250  ...   \n",
      "max    2446.466000  3118.087000  2966.971000  1914.308000   803.200000  ...   \n",
      "\n",
      "              9990         9991         9992         9993         9994  \\\n",
      "count  3750.000000  3750.000000  3750.000000  3750.000000  3750.000000   \n",
      "mean     13.997377    21.456582    22.586461    16.736889    13.992185   \n",
      "std     269.223339   545.746530   265.221187   503.416444   818.825405   \n",
      "min    -957.937000 -1983.009000  -937.357000 -1758.858000 -2526.791000   \n",
      "25%    -169.777250  -352.959500  -154.639750  -328.083750  -550.599000   \n",
      "50%      18.700000    38.348500    26.199500    14.575500     1.363500   \n",
      "75%     196.049000   396.868500   198.237250   356.185500   574.453250   \n",
      "max     893.196000  2080.750000  1070.453000  1705.664000  2868.989000   \n",
      "\n",
      "              9995         9996         9997         9998         9999  \n",
      "count  3750.000000  3750.000000  3750.000000  3750.000000  3750.000000  \n",
      "mean     -1.426345     9.597250    -2.031243    -2.841237    38.071903  \n",
      "std     655.666258   204.731554   793.022407   629.128655   768.405732  \n",
      "min   -2165.769000  -739.205000 -2731.037000 -2223.909000 -2565.513000  \n",
      "25%    -432.000750  -129.076250  -561.304000  -424.192750  -462.828000  \n",
      "50%      -3.796500     8.600500    -4.243000    -7.628000    28.107000  \n",
      "75%     425.338000   149.855750   539.550000   427.794500   552.173500  \n",
      "max    2562.331000   685.176000  3123.617000  2204.527000  2664.074000  \n",
      "\n",
      "[8 rows x 10000 columns]\n",
      "\n",
      "\n",
      "train_labels \n",
      "\n",
      "                0\n",
      "count  3750.00000\n",
      "mean      0.80000\n",
      "std       0.60008\n",
      "min      -1.00000\n",
      "25%       1.00000\n",
      "50%       1.00000\n",
      "75%       1.00000\n",
      "max       1.00000\n",
      "\n",
      "\n"
     ]
    }
   ],
   "source": [
    "print(\"Describing data with describe() \\n\")\n",
    "data_describe(data, data_names)"
   ]
  },
  {
   "cell_type": "code",
   "execution_count": 8,
   "metadata": {},
   "outputs": [],
   "source": [
    "def data_duplicates(df: list, name: list) -> None:\n",
    "    for d, n in zip(df, name):\n",
    "        print(n, '\\n')\n",
    "        print(d[d.duplicated()].shape)\n",
    "        print('\\n')"
   ]
  },
  {
   "cell_type": "code",
   "execution_count": 9,
   "metadata": {
    "scrolled": true
   },
   "outputs": [
    {
     "name": "stdout",
     "output_type": "stream",
     "text": [
      "Duplicates \n",
      "\n",
      "test_data \n",
      "\n",
      "(0, 10000)\n",
      "\n",
      "\n",
      "train_data \n",
      "\n",
      "(0, 10000)\n",
      "\n",
      "\n",
      "train_labels \n",
      "\n",
      "(3748, 1)\n",
      "\n",
      "\n"
     ]
    }
   ],
   "source": [
    "print(\"Duplicates \\n\")\n",
    "data_duplicates(data, data_names)"
   ]
  },
  {
   "cell_type": "code",
   "execution_count": 10,
   "metadata": {},
   "outputs": [],
   "source": [
    "def data_null_values(df: list, name: list) -> None:\n",
    "    for d, n in zip(df, name):\n",
    "        print(n, '\\n')\n",
    "        print(round(d.isnull().sum()/len(d)*100,2)[0], '%')\n",
    "        print('\\n')"
   ]
  },
  {
   "cell_type": "code",
   "execution_count": 11,
   "metadata": {},
   "outputs": [
    {
     "name": "stdout",
     "output_type": "stream",
     "text": [
      "Null values \n",
      "\n",
      "test_data \n",
      "\n",
      "0.0 %\n",
      "\n",
      "\n",
      "train_data \n",
      "\n",
      "0.0 %\n",
      "\n",
      "\n",
      "train_labels \n",
      "\n",
      "0.0 %\n",
      "\n",
      "\n"
     ]
    }
   ],
   "source": [
    "print(\"Null values \\n\")\n",
    "data_null_values(data, data_names)"
   ]
  },
  {
   "cell_type": "code",
   "execution_count": 12,
   "metadata": {},
   "outputs": [
    {
     "name": "stdout",
     "output_type": "stream",
     "text": [
      "Values in train_labels \n",
      "\n"
     ]
    },
    {
     "data": {
      "text/plain": [
       "array([ 1, -1], dtype=int64)"
      ]
     },
     "execution_count": 12,
     "metadata": {},
     "output_type": "execute_result"
    }
   ],
   "source": [
    "print(\"Values in train_labels \\n\")\n",
    "pd.unique(train_labels[0])"
   ]
  },
  {
   "cell_type": "code",
   "execution_count": 15,
   "metadata": {},
   "outputs": [
    {
     "data": {
      "text/plain": [
       "<AxesSubplot:>"
      ]
     },
     "execution_count": 15,
     "metadata": {},
     "output_type": "execute_result"
    },
    {
     "data": {
      "image/png": "[encoded data removed]",
      "text/plain": [
       "<Figure size 432x288 with 1 Axes>"
      ]
     },
     "metadata": {
      "needs_background": "light"
     },
     "output_type": "display_data"
    }
   ],
   "source": [
    "train_labels[0].value_counts().plot(kind='bar')"
   ]
  },
  {
   "cell_type": "code",
   "execution_count": 14,
   "metadata": {},
   "outputs": [
    {
     "name": "stdout",
     "output_type": "stream",
     "text": [
      "-1 label is 0.1 % of train_labels causing highly imbalanced data problem\n"
     ]
    }
   ],
   "source": [
    "print('-1 label is', train_labels.value_counts()[-1]/(train_labels.value_counts()[1] + train_labels.value_counts()[-1]), '% of train_labels causing highly imbalanced data problem')"
   ]
  },
  {
   "cell_type": "code",
   "execution_count": null,
   "metadata": {},
   "outputs": [],
   "source": []
  }
 ],
 "metadata": {
  "kernelspec": {
   "display_name": "mlproject",
   "language": "python",
   "name": "mlproject"
  },
  "language_info": {
   "codemirror_mode": {
    "name": "ipython",
    "version": 3
   },
   "file_extension": ".py",
   "mimetype": "text/x-python",
   "name": "python",
   "nbconvert_exporter": "python",
   "pygments_lexer": "ipython3",
   "version": "3.9.7"
  }
 },
 "nbformat": 4,
 "nbformat_minor": 4
}
