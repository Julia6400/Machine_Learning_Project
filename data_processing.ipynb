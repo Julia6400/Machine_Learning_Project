{
 "cells": [
  {
   "cell_type": "code",
   "execution_count": 1,
   "id": "42066b20",
   "metadata": {},
   "outputs": [
    {
     "name": "stdout",
     "output_type": "stream",
     "text": [
      "Collecting hpsklearn\n",
      "  Using cached hpsklearn-0.1.0.tar.gz (26 kB)\n",
      "Collecting hyperopt\n",
      "  Using cached hyperopt-0.2.7-py2.py3-none-any.whl (1.6 MB)\n",
      "Requirement already satisfied: nose in c:\\users\\48502\\anaconda3\\lib\\site-packages (from hpsklearn) (1.3.7)\n",
      "Requirement already satisfied: numpy in c:\\users\\48502\\anaconda3\\lib\\site-packages (from hpsklearn) (1.20.1)\n",
      "Requirement already satisfied: scikit-learn in c:\\users\\48502\\anaconda3\\lib\\site-packages (from hpsklearn) (0.24.1)\n",
      "Requirement already satisfied: scipy in c:\\users\\48502\\anaconda3\\lib\\site-packages (from hpsklearn) (1.6.2)\n",
      "Requirement already satisfied: networkx>=2.2 in c:\\users\\48502\\anaconda3\\lib\\site-packages (from hyperopt->hpsklearn) (2.5)\n",
      "Requirement already satisfied: tqdm in c:\\users\\48502\\anaconda3\\lib\\site-packages (from hyperopt->hpsklearn) (4.59.0)\n",
      "Requirement already satisfied: six in c:\\users\\48502\\anaconda3\\lib\\site-packages (from hyperopt->hpsklearn) (1.15.0)\n",
      "Requirement already satisfied: future in c:\\users\\48502\\anaconda3\\lib\\site-packages (from hyperopt->hpsklearn) (0.18.2)\n",
      "Collecting py4j\n",
      "  Using cached py4j-0.10.9.5-py2.py3-none-any.whl (199 kB)\n",
      "Requirement already satisfied: cloudpickle in c:\\users\\48502\\anaconda3\\lib\\site-packages (from hyperopt->hpsklearn) (1.6.0)\n",
      "Requirement already satisfied: decorator>=4.3.0 in c:\\users\\48502\\anaconda3\\lib\\site-packages (from networkx>=2.2->hyperopt->hpsklearn) (5.0.6)\n",
      "Requirement already satisfied: joblib>=0.11 in c:\\users\\48502\\anaconda3\\lib\\site-packages (from scikit-learn->hpsklearn) (1.0.1)\n",
      "Requirement already satisfied: threadpoolctl>=2.0.0 in c:\\users\\48502\\anaconda3\\lib\\site-packages (from scikit-learn->hpsklearn) (2.1.0)\n",
      "Building wheels for collected packages: hpsklearn\n",
      "  Building wheel for hpsklearn (setup.py): started\n",
      "  Building wheel for hpsklearn (setup.py): finished with status 'done'\n",
      "  Created wheel for hpsklearn: filename=hpsklearn-0.1.0-py3-none-any.whl size=23913 sha256=fc05dad640076c2c40860bcb4f7f981cb6ebf23a57d58fc27bb3b8953aacff8f\n",
      "  Stored in directory: c:\\users\\48502\\appdata\\local\\pip\\cache\\wheels\\ed\\78\\df\\b51d66188f755e2c237b6bcbe8f0ed408e2508eb648814d6fb\n",
      "Successfully built hpsklearn\n",
      "Installing collected packages: py4j, hyperopt, hpsklearn\n",
      "Successfully installed hpsklearn-0.1.0 hyperopt-0.2.7 py4j-0.10.9.5\n",
      "Collecting neptune-optuna\n",
      "  Downloading neptune-optuna-0.9.14.tar.gz (23 kB)\n",
      "Requirement already satisfied: neptune-client>=0.10.0 in c:\\users\\48502\\anaconda3\\lib\\site-packages (from neptune-optuna) (0.16.3)\n",
      "Collecting optuna>=2.4.0\n",
      "  Downloading optuna-2.10.0-py3-none-any.whl (308 kB)\n",
      "Collecting plotly\n",
      "  Downloading plotly-5.8.0-py2.py3-none-any.whl (15.2 MB)\n",
      "Collecting sklearn\n",
      "  Using cached sklearn-0.0.tar.gz (1.1 kB)\n",
      "Requirement already satisfied: swagger-spec-validator>=2.7.4 in c:\\users\\48502\\anaconda3\\lib\\site-packages (from neptune-client>=0.10.0->neptune-optuna) (2.7.4)\n",
      "Requirement already satisfied: future>=0.17.1 in c:\\users\\48502\\anaconda3\\lib\\site-packages (from neptune-client>=0.10.0->neptune-optuna) (0.18.2)\n",
      "Requirement already satisfied: pandas in c:\\users\\48502\\anaconda3\\lib\\site-packages (from neptune-client>=0.10.0->neptune-optuna) (1.2.4)\n",
      "Requirement already satisfied: click>=7.0 in c:\\users\\48502\\anaconda3\\lib\\site-packages (from neptune-client>=0.10.0->neptune-optuna) (7.1.2)\n",
      "Requirement already satisfied: requests-oauthlib>=1.0.0 in c:\\users\\48502\\anaconda3\\lib\\site-packages (from neptune-client>=0.10.0->neptune-optuna) (1.3.1)\n",
      "Requirement already satisfied: GitPython>=2.0.8 in c:\\users\\48502\\anaconda3\\lib\\site-packages (from neptune-client>=0.10.0->neptune-optuna) (3.1.27)\n",
      "Requirement already satisfied: Pillow>=1.1.6 in c:\\users\\48502\\anaconda3\\lib\\site-packages (from neptune-client>=0.10.0->neptune-optuna) (8.2.0)\n",
      "Requirement already satisfied: six>=1.12.0 in c:\\users\\48502\\anaconda3\\lib\\site-packages (from neptune-client>=0.10.0->neptune-optuna) (1.15.0)\n",
      "Requirement already satisfied: boto3>=1.16.0 in c:\\users\\48502\\anaconda3\\lib\\site-packages (from neptune-client>=0.10.0->neptune-optuna) (1.24.3)\n",
      "Requirement already satisfied: urllib3 in c:\\users\\48502\\anaconda3\\lib\\site-packages (from neptune-client>=0.10.0->neptune-optuna) (1.26.4)\n",
      "Requirement already satisfied: bravado in c:\\users\\48502\\anaconda3\\lib\\site-packages (from neptune-client>=0.10.0->neptune-optuna) (11.0.3)\n",
      "Requirement already satisfied: packaging in c:\\users\\48502\\anaconda3\\lib\\site-packages (from neptune-client>=0.10.0->neptune-optuna) (20.9)\n",
      "Requirement already satisfied: psutil in c:\\users\\48502\\anaconda3\\lib\\site-packages (from neptune-client>=0.10.0->neptune-optuna) (5.8.0)\n",
      "Requirement already satisfied: requests>=2.20.0 in c:\\users\\48502\\anaconda3\\lib\\site-packages (from neptune-client>=0.10.0->neptune-optuna) (2.25.1)\n",
      "Requirement already satisfied: oauthlib>=2.1.0 in c:\\users\\48502\\anaconda3\\lib\\site-packages (from neptune-client>=0.10.0->neptune-optuna) (3.2.0)\n",
      "Requirement already satisfied: PyJWT in c:\\users\\48502\\anaconda3\\lib\\site-packages (from neptune-client>=0.10.0->neptune-optuna) (2.4.0)\n",
      "Requirement already satisfied: websocket-client!=1.0.0,>=0.35.0 in c:\\users\\48502\\anaconda3\\lib\\site-packages (from neptune-client>=0.10.0->neptune-optuna) (1.3.2)\n",
      "Requirement already satisfied: botocore<1.28.0,>=1.27.3 in c:\\users\\48502\\anaconda3\\lib\\site-packages (from boto3>=1.16.0->neptune-client>=0.10.0->neptune-optuna) (1.27.3)\n",
      "Requirement already satisfied: s3transfer<0.7.0,>=0.6.0 in c:\\users\\48502\\anaconda3\\lib\\site-packages (from boto3>=1.16.0->neptune-client>=0.10.0->neptune-optuna) (0.6.0)\n",
      "Requirement already satisfied: jmespath<2.0.0,>=0.7.1 in c:\\users\\48502\\anaconda3\\lib\\site-packages (from boto3>=1.16.0->neptune-client>=0.10.0->neptune-optuna) (1.0.0)\n",
      "Requirement already satisfied: python-dateutil<3.0.0,>=2.1 in c:\\users\\48502\\anaconda3\\lib\\site-packages (from botocore<1.28.0,>=1.27.3->boto3>=1.16.0->neptune-client>=0.10.0->neptune-optuna) (2.8.1)\n",
      "Requirement already satisfied: gitdb<5,>=4.0.1 in c:\\users\\48502\\anaconda3\\lib\\site-packages (from GitPython>=2.0.8->neptune-client>=0.10.0->neptune-optuna) (4.0.9)\n",
      "Requirement already satisfied: smmap<6,>=3.0.1 in c:\\users\\48502\\anaconda3\\lib\\site-packages (from gitdb<5,>=4.0.1->GitPython>=2.0.8->neptune-client>=0.10.0->neptune-optuna) (5.0.0)\n",
      "Requirement already satisfied: numpy in c:\\users\\48502\\anaconda3\\lib\\site-packages (from optuna>=2.4.0->neptune-optuna) (1.20.1)\n",
      "Requirement already satisfied: sqlalchemy>=1.1.0 in c:\\users\\48502\\anaconda3\\lib\\site-packages (from optuna>=2.4.0->neptune-optuna) (1.4.7)\n",
      "Collecting colorlog\n",
      "  Downloading colorlog-6.6.0-py2.py3-none-any.whl (11 kB)\n",
      "Requirement already satisfied: scipy!=1.4.0 in c:\\users\\48502\\anaconda3\\lib\\site-packages (from optuna>=2.4.0->neptune-optuna) (1.6.2)\n",
      "Collecting cmaes>=0.8.2\n",
      "  Downloading cmaes-0.8.2-py3-none-any.whl (15 kB)\n",
      "Requirement already satisfied: tqdm in c:\\users\\48502\\anaconda3\\lib\\site-packages (from optuna>=2.4.0->neptune-optuna) (4.59.0)\n",
      "Collecting cliff\n",
      "  Downloading cliff-3.10.1-py3-none-any.whl (81 kB)\n",
      "Requirement already satisfied: PyYAML in c:\\users\\48502\\anaconda3\\lib\\site-packages (from optuna>=2.4.0->neptune-optuna) (5.4.1)\n",
      "Collecting alembic\n",
      "  Downloading alembic-1.8.0-py3-none-any.whl (209 kB)\n",
      "Requirement already satisfied: pyparsing>=2.0.2 in c:\\users\\48502\\anaconda3\\lib\\site-packages (from packaging->neptune-client>=0.10.0->neptune-optuna) (2.4.7)\n",
      "Requirement already satisfied: idna<3,>=2.5 in c:\\users\\48502\\anaconda3\\lib\\site-packages (from requests>=2.20.0->neptune-client>=0.10.0->neptune-optuna) (2.10)\n",
      "Requirement already satisfied: chardet<5,>=3.0.2 in c:\\users\\48502\\anaconda3\\lib\\site-packages (from requests>=2.20.0->neptune-client>=0.10.0->neptune-optuna) (4.0.0)\n",
      "Requirement already satisfied: certifi>=2017.4.17 in c:\\users\\48502\\anaconda3\\lib\\site-packages (from requests>=2.20.0->neptune-client>=0.10.0->neptune-optuna) (2020.12.5)\n",
      "Requirement already satisfied: greenlet!=0.4.17 in c:\\users\\48502\\anaconda3\\lib\\site-packages (from sqlalchemy>=1.1.0->optuna>=2.4.0->neptune-optuna) (1.0.0)\n",
      "Requirement already satisfied: jsonschema in c:\\users\\48502\\anaconda3\\lib\\site-packages (from swagger-spec-validator>=2.7.4->neptune-client>=0.10.0->neptune-optuna) (3.2.0)\n",
      "Collecting importlib-resources\n",
      "  Downloading importlib_resources-5.7.1-py3-none-any.whl (28 kB)\n",
      "Requirement already satisfied: importlib-metadata in c:\\users\\48502\\anaconda3\\lib\\site-packages (from alembic->optuna>=2.4.0->neptune-optuna) (3.10.0)\n",
      "Collecting Mako\n",
      "  Downloading Mako-1.2.0-py3-none-any.whl (78 kB)\n",
      "Requirement already satisfied: bravado-core>=5.16.1 in c:\\users\\48502\\anaconda3\\lib\\site-packages (from bravado->neptune-client>=0.10.0->neptune-optuna) (5.17.0)\n",
      "Requirement already satisfied: monotonic in c:\\users\\48502\\anaconda3\\lib\\site-packages (from bravado->neptune-client>=0.10.0->neptune-optuna) (1.6)\n",
      "Requirement already satisfied: simplejson in c:\\users\\48502\\anaconda3\\lib\\site-packages (from bravado->neptune-client>=0.10.0->neptune-optuna) (3.17.6)\n",
      "Requirement already satisfied: msgpack in c:\\users\\48502\\anaconda3\\lib\\site-packages (from bravado->neptune-client>=0.10.0->neptune-optuna) (1.0.2)\n",
      "Requirement already satisfied: typing-extensions in c:\\users\\48502\\anaconda3\\lib\\site-packages (from bravado->neptune-client>=0.10.0->neptune-optuna) (3.7.4.3)\n",
      "Requirement already satisfied: pytz in c:\\users\\48502\\anaconda3\\lib\\site-packages (from bravado-core>=5.16.1->bravado->neptune-client>=0.10.0->neptune-optuna) (2021.1)\n",
      "Requirement already satisfied: jsonref in c:\\users\\48502\\anaconda3\\lib\\site-packages (from bravado-core>=5.16.1->bravado->neptune-client>=0.10.0->neptune-optuna) (0.2)\n",
      "Requirement already satisfied: setuptools in c:\\users\\48502\\anaconda3\\lib\\site-packages (from jsonschema->swagger-spec-validator>=2.7.4->neptune-client>=0.10.0->neptune-optuna) (52.0.0.post20210125)\n",
      "Requirement already satisfied: attrs>=17.4.0 in c:\\users\\48502\\anaconda3\\lib\\site-packages (from jsonschema->swagger-spec-validator>=2.7.4->neptune-client>=0.10.0->neptune-optuna) (20.3.0)\n",
      "Requirement already satisfied: pyrsistent>=0.14.0 in c:\\users\\48502\\anaconda3\\lib\\site-packages (from jsonschema->swagger-spec-validator>=2.7.4->neptune-client>=0.10.0->neptune-optuna) (0.17.3)\n",
      "Requirement already satisfied: webcolors in c:\\users\\48502\\anaconda3\\lib\\site-packages (from jsonschema->swagger-spec-validator>=2.7.4->neptune-client>=0.10.0->neptune-optuna) (1.12)\n",
      "Requirement already satisfied: strict-rfc3339 in c:\\users\\48502\\anaconda3\\lib\\site-packages (from jsonschema->swagger-spec-validator>=2.7.4->neptune-client>=0.10.0->neptune-optuna) (0.7)\n",
      "Requirement already satisfied: rfc3987 in c:\\users\\48502\\anaconda3\\lib\\site-packages (from jsonschema->swagger-spec-validator>=2.7.4->neptune-client>=0.10.0->neptune-optuna) (1.3.8)\n",
      "Requirement already satisfied: jsonpointer>1.13 in c:\\users\\48502\\anaconda3\\lib\\site-packages (from jsonschema->swagger-spec-validator>=2.7.4->neptune-client>=0.10.0->neptune-optuna) (2.3)\n",
      "Collecting PrettyTable>=0.7.2\n",
      "  Downloading prettytable-3.3.0-py3-none-any.whl (26 kB)\n",
      "Collecting pbr!=2.1.0,>=2.0.0\n",
      "  Downloading pbr-5.9.0-py2.py3-none-any.whl (112 kB)\n",
      "Collecting stevedore>=2.0.1\n",
      "  Downloading stevedore-3.5.0-py3-none-any.whl (49 kB)\n",
      "Collecting autopage>=0.4.0\n",
      "  Downloading autopage-0.5.1-py3-none-any.whl (29 kB)\n",
      "Collecting cmd2>=1.0.0\n",
      "  Downloading cmd2-2.4.1-py3-none-any.whl (146 kB)\n",
      "Collecting pyperclip>=1.6\n",
      "  Downloading pyperclip-1.8.2.tar.gz (20 kB)\n",
      "Requirement already satisfied: wcwidth>=0.1.7 in c:\\users\\48502\\anaconda3\\lib\\site-packages (from cmd2>=1.0.0->cliff->optuna>=2.4.0->neptune-optuna) (0.2.5)\n",
      "Collecting pyreadline3\n",
      "  Downloading pyreadline3-3.4.1-py3-none-any.whl (95 kB)\n",
      "Requirement already satisfied: colorama in c:\\users\\48502\\anaconda3\\lib\\site-packages (from colorlog->optuna>=2.4.0->neptune-optuna) (0.4.4)\n",
      "Requirement already satisfied: zipp>=0.5 in c:\\users\\48502\\anaconda3\\lib\\site-packages (from importlib-metadata->alembic->optuna>=2.4.0->neptune-optuna) (3.4.1)\n",
      "Requirement already satisfied: MarkupSafe>=0.9.2 in c:\\users\\48502\\anaconda3\\lib\\site-packages (from Mako->alembic->optuna>=2.4.0->neptune-optuna) (1.1.1)\n",
      "Collecting tenacity>=6.2.0\n",
      "  Downloading tenacity-8.0.1-py3-none-any.whl (24 kB)\n",
      "Requirement already satisfied: scikit-learn in c:\\users\\48502\\anaconda3\\lib\\site-packages (from sklearn->neptune-optuna) (0.24.1)\n",
      "Requirement already satisfied: joblib>=0.11 in c:\\users\\48502\\anaconda3\\lib\\site-packages (from scikit-learn->sklearn->neptune-optuna) (1.0.1)\n",
      "Requirement already satisfied: threadpoolctl>=2.0.0 in c:\\users\\48502\\anaconda3\\lib\\site-packages (from scikit-learn->sklearn->neptune-optuna) (2.1.0)\n",
      "Building wheels for collected packages: neptune-optuna, pyperclip, sklearn\n",
      "  Building wheel for neptune-optuna (setup.py): started\n",
      "  Building wheel for neptune-optuna (setup.py): finished with status 'done'\n",
      "  Created wheel for neptune-optuna: filename=neptune_optuna-0.9.14-py3-none-any.whl size=7458 sha256=741754e51176754b138cece5d27bdcd4fab53527a3536f6434608c4c23dbf81c\n",
      "  Stored in directory: c:\\users\\48502\\appdata\\local\\pip\\cache\\wheels\\bb\\3d\\a3\\4b1024eb26cd3837348a4aa5ea49575c5c88562b2a0e8a1974\n",
      "  Building wheel for pyperclip (setup.py): started\n",
      "  Building wheel for pyperclip (setup.py): finished with status 'done'\n",
      "  Created wheel for pyperclip: filename=pyperclip-1.8.2-py3-none-any.whl size=11107 sha256=0af7fb71eba431d8836e6e45eef7df1bf34c354680ef32623f5e7970ea72d700\n",
      "  Stored in directory: c:\\users\\48502\\appdata\\local\\pip\\cache\\wheels\\7f\\1a\\65\\84ff8c386bec21fca6d220ea1f5498a0367883a78dd5ba6122\n",
      "  Building wheel for sklearn (setup.py): started\n",
      "  Building wheel for sklearn (setup.py): finished with status 'done'\n",
      "  Created wheel for sklearn: filename=sklearn-0.0-py2.py3-none-any.whl size=1316 sha256=ad1aad678cc369edb45f57f1347de74f308c27ee40aac3a4bdc5579d6838b10b\n",
      "  Stored in directory: c:\\users\\48502\\appdata\\local\\pip\\cache\\wheels\\22\\0b\\40\\fd3f795caaa1fb4c6cb738bc1f56100be1e57da95849bfc897\n",
      "Successfully built neptune-optuna pyperclip sklearn\n",
      "Installing collected packages: pyreadline3, pyperclip, pbr, stevedore, PrettyTable, Mako, importlib-resources, cmd2, autopage, tenacity, colorlog, cmaes, cliff, alembic, sklearn, plotly, optuna, neptune-optuna\n",
      "Successfully installed Mako-1.2.0 PrettyTable-3.3.0 alembic-1.8.0 autopage-0.5.1 cliff-3.10.1 cmaes-0.8.2 cmd2-2.4.1 colorlog-6.6.0 importlib-resources-5.7.1 neptune-optuna-0.9.14 optuna-2.10.0 pbr-5.9.0 plotly-5.8.0 pyperclip-1.8.2 pyreadline3-3.4.1 sklearn-0.0 stevedore-3.5.0 tenacity-8.0.1\n"
     ]
    }
   ],
   "source": [
    "!pip install hpsklearn\n",
    "!pip install --upgrade --quiet neptune-client\n",
    "!pip install neptune-optuna\n"
   ]
  },
  {
   "cell_type": "code",
   "execution_count": 3,
   "id": "0e386daf",
   "metadata": {},
   "outputs": [
    {
     "ename": "ModuleNotFoundError",
     "evalue": "No module named 'imblearn'",
     "output_type": "error",
     "traceback": [
      "\u001b[1;31m---------------------------------------------------------------------------\u001b[0m",
      "\u001b[1;31mModuleNotFoundError\u001b[0m                       Traceback (most recent call last)",
      "\u001b[1;32m<ipython-input-3-59f69428d7cd>\u001b[0m in \u001b[0;36m<module>\u001b[1;34m\u001b[0m\n\u001b[0;32m     24\u001b[0m \u001b[1;32mfrom\u001b[0m \u001b[0msklearn\u001b[0m\u001b[1;33m.\u001b[0m\u001b[0mmetrics\u001b[0m \u001b[1;32mimport\u001b[0m \u001b[0mf1_score\u001b[0m\u001b[1;33m\u001b[0m\u001b[1;33m\u001b[0m\u001b[0m\n\u001b[0;32m     25\u001b[0m \u001b[1;33m\u001b[0m\u001b[0m\n\u001b[1;32m---> 26\u001b[1;33m \u001b[1;32mfrom\u001b[0m \u001b[0mimblearn\u001b[0m\u001b[1;33m.\u001b[0m\u001b[0mover_sampling\u001b[0m \u001b[1;32mimport\u001b[0m \u001b[0mRandomOverSampler\u001b[0m\u001b[1;33m\u001b[0m\u001b[1;33m\u001b[0m\u001b[0m\n\u001b[0m\u001b[0;32m     27\u001b[0m \u001b[1;32mfrom\u001b[0m \u001b[0mimblearn\u001b[0m\u001b[1;33m.\u001b[0m\u001b[0munder_sampling\u001b[0m \u001b[1;32mimport\u001b[0m \u001b[0mRandomUnderSampler\u001b[0m\u001b[1;33m\u001b[0m\u001b[1;33m\u001b[0m\u001b[0m\n\u001b[0;32m     28\u001b[0m \u001b[1;33m\u001b[0m\u001b[0m\n",
      "\u001b[1;31mModuleNotFoundError\u001b[0m: No module named 'imblearn'"
     ]
    }
   ],
   "source": [
    "import os\n",
    "from collections import Counter\n",
    "\n",
    "import numpy as np\n",
    "import pandas as pd\n",
    "import seaborn as sns\n",
    "import matplotlib.pyplot as plt\n",
    "\n",
    "from sklearn.pipeline import Pipeline\n",
    "from sklearn.preprocessing import StandardScaler, MinMaxScaler\n",
    "from sklearn.decomposition import PCA\n",
    "from sklearn.model_selection import GridSearchCV, cross_val_score\n",
    "from sklearn.model_selection import RepeatedStratifiedKFold, train_test_split\n",
    "from sklearn.feature_selection import SelectKBest, f_classif, RFE\n",
    "\n",
    "from sklearn.svm import SVC, LinearSVC\n",
    "from sklearn.linear_model import LogisticRegression\n",
    "from sklearn.neighbors import KNeighborsClassifier\n",
    "from sklearn.neural_network import MLPClassifier\n",
    "from sklearn.ensemble import AdaBoostClassifier, GradientBoostingClassifier\n",
    "from sklearn.ensemble import RandomForestClassifier, ExtraTreesClassifier \n",
    "from sklearn.naive_bayes import GaussianNB\n",
    "\n",
    "from sklearn.metrics import f1_score\n",
    "\n",
    "from imblearn.over_sampling import RandomOverSampler\n",
    "from imblearn.under_sampling import RandomUnderSampler\n",
    "\n",
    "from hpsklearn import HyperoptEstimator\n",
    "from hpsklearn import any_classifier\n",
    "from hpsklearn import any_preprocessing\n",
    "from hyperopt import tpe\n",
    "\n",
    "import neptune.new as neptune"
   ]
  },
  {
   "cell_type": "code",
   "execution_count": 1,
   "id": "47440c19",
   "metadata": {},
   "outputs": [
    {
     "name": "stdout",
     "output_type": "stream",
     "text": [
      "https://app.neptune.ai/julia.grzegorowska/ml-project/e/MLPROJ-3\n"
     ]
    },
    {
     "name": "stderr",
     "output_type": "stream",
     "text": [
      "Info (NVML): NVML Shared Library Not Found. GPU usage metrics may not be reported. For more information, see https://docs.neptune.ai/you-should-know/what-can-you-log-and-display#hardware-consumption\n"
     ]
    },
    {
     "name": "stdout",
     "output_type": "stream",
     "text": [
      "Remember to stop your run once you’ve finished logging your metadata (https://docs.neptune.ai/api-reference/run#.stop). It will be stopped automatically only when the notebook kernel/interactive console is terminated.\n"
     ]
    }
   ],
   "source": [
    "import neptune.new as neptune\n",
    "\n",
    "run = neptune.init(\n",
    "    project=\"julia.grzegorowska/ml-project\",\n",
    "    api_token=\"eyJhcGlfYWRkcmVzcyI6Imh0dHBzOi8vYXBwLm5lcHR1bmUuYWkiLCJhcGlfdXJsIjoiaHR0cHM6Ly9hcHAubmVwdHVuZS5haSIsImFwaV9rZXkiOiI0YzMwMDM2OC04YzdlLTQxOGEtYmEzYi0xZTA3ZmQzMjlkNzIifQ==\",\n",
    ")  # your credentials\n",
    "\n",
    "\n",
    "params = {\n",
    "    \"optimizer\": \"Julia\"\n",
    "}\n",
    "run[\"parameters\"] = params\n",
    "\n",
    "\n",
    "def send_data_neptune(data, plot_name):\n",
    "    \"\"\" Sending array with data to neptune\"\"\"\n",
    "\n",
    "    for epoch in range(0, len(data)):\n",
    "      run[plot_name].log(data[epoch])\n",
    "\n",
    "def single_record(record, record_name):\n",
    "    \"\"\" Sending single record to neptune \"\"\"\n",
    "\n",
    "    run[record_name] = record\n",
    "\n",
    "def stop_run():\n",
    "    \"\"\" Stoping run at the end of the program \"\"\"\n",
    "\n",
    "    run.stop()"
   ]
  },
  {
   "cell_type": "code",
   "execution_count": 2,
   "id": "da8de10e",
   "metadata": {},
   "outputs": [
    {
     "ename": "NameError",
     "evalue": "name 'os' is not defined",
     "output_type": "error",
     "traceback": [
      "\u001b[1;31m---------------------------------------------------------------------------\u001b[0m",
      "\u001b[1;31mNameError\u001b[0m                                 Traceback (most recent call last)",
      "\u001b[1;32m<ipython-input-2-697b2eadec6b>\u001b[0m in \u001b[0;36m<module>\u001b[1;34m\u001b[0m\n\u001b[1;32m----> 1\u001b[1;33m \u001b[0mos\u001b[0m\u001b[1;33m.\u001b[0m\u001b[0menviron\u001b[0m\u001b[1;33m[\u001b[0m\u001b[1;34m\"OMP_NUM_THREADS\"\u001b[0m\u001b[1;33m]\u001b[0m \u001b[1;33m=\u001b[0m \u001b[1;34m\"1\"\u001b[0m\u001b[1;33m\u001b[0m\u001b[1;33m\u001b[0m\u001b[0m\n\u001b[0m",
      "\u001b[1;31mNameError\u001b[0m: name 'os' is not defined"
     ]
    }
   ],
   "source": [
    "\n",
    "os.environ[\"OMP_NUM_THREADS\"] = \"1\""
   ]
  },
  {
   "cell_type": "code",
   "execution_count": null,
   "id": "d42b574b",
   "metadata": {},
   "outputs": [],
   "source": [
    "\n",
    "seed = np.random.seed(147)"
   ]
  },
  {
   "cell_type": "code",
   "execution_count": null,
   "id": "2c85e47a",
   "metadata": {},
   "outputs": [],
   "source": [
    "import pandas as pd\n",
    "from io import StringIO\n",
    "import requests"
   ]
  },
  {
   "cell_type": "code",
   "execution_count": null,
   "id": "81dee167",
   "metadata": {},
   "outputs": [],
   "source": [
    "url='https://drive.google.com/file/d/1VFzE4QmJS47QsLOe_C6UeDDK5QGSfd5O/view?usp=sharing'\n",
    "file_id = url.split('/')[-2]\n",
    "dwn_url='https://drive.google.com/uc?export=download&id=' + file_id\n",
    "url2 = requests.get(dwn_url).text\n",
    "csv_raw = StringIO(url2)\n",
    "df = pd.read_csv(csv_raw)\n",
    "print(df.head())"
   ]
  },
  {
   "cell_type": "code",
   "execution_count": null,
   "id": "b9aec1dd",
   "metadata": {},
   "outputs": [],
   "source": []
  }
 ],
 "metadata": {
  "kernelspec": {
   "display_name": "Python 3",
   "language": "python",
   "name": "python3"
  },
  "language_info": {
   "codemirror_mode": {
    "name": "ipython",
    "version": 3
   },
   "file_extension": ".py",
   "mimetype": "text/x-python",
   "name": "python",
   "nbconvert_exporter": "python",
   "pygments_lexer": "ipython3",
   "version": "3.8.8"
  }
 },
 "nbformat": 4,
 "nbformat_minor": 5
}
