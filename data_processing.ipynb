{
 "cells": [
  {
   "cell_type": "code",
   "execution_count": 137,
   "id": "0e386daf",
   "metadata": {},
   "outputs": [
    {
     "ename": "ImportError",
     "evalue": "cannot import name '_ClassNamePrefixFeaturesOutMixin' from 'sklearn.base' (C:\\Users\\48502\\miniconda3\\envs\\ml_project\\lib\\site-packages\\sklearn\\base.py)",
     "output_type": "error",
     "traceback": [
      "\u001b[1;31m---------------------------------------------------------------------------\u001b[0m",
      "\u001b[1;31mImportError\u001b[0m                               Traceback (most recent call last)",
      "Input \u001b[1;32mIn [137]\u001b[0m, in \u001b[0;36m<cell line: 21>\u001b[1;34m()\u001b[0m\n\u001b[0;32m     18\u001b[0m \u001b[38;5;28;01mfrom\u001b[39;00m \u001b[38;5;21;01msklearn\u001b[39;00m\u001b[38;5;21;01m.\u001b[39;00m\u001b[38;5;21;01mnaive_bayes\u001b[39;00m \u001b[38;5;28;01mimport\u001b[39;00m GaussianNB\n\u001b[0;32m     19\u001b[0m \u001b[38;5;28;01mfrom\u001b[39;00m \u001b[38;5;21;01msklearn\u001b[39;00m\u001b[38;5;21;01m.\u001b[39;00m\u001b[38;5;21;01mmetrics\u001b[39;00m \u001b[38;5;28;01mimport\u001b[39;00m f1_score\n\u001b[1;32m---> 21\u001b[0m \u001b[38;5;28;01mfrom\u001b[39;00m \u001b[38;5;21;01mimblearn\u001b[39;00m\u001b[38;5;21;01m.\u001b[39;00m\u001b[38;5;21;01mover_sampling\u001b[39;00m \u001b[38;5;28;01mimport\u001b[39;00m RandomOverSampler\n\u001b[0;32m     22\u001b[0m \u001b[38;5;28;01mfrom\u001b[39;00m \u001b[38;5;21;01mimblearn\u001b[39;00m\u001b[38;5;21;01m.\u001b[39;00m\u001b[38;5;21;01munder_sampling\u001b[39;00m \u001b[38;5;28;01mimport\u001b[39;00m RandomUnderSampler\n\u001b[0;32m     23\u001b[0m \u001b[38;5;28;01mfrom\u001b[39;00m \u001b[38;5;21;01mhpsklearn\u001b[39;00m \u001b[38;5;28;01mimport\u001b[39;00m HyperoptEstimator, any_classifier, any_preprocessing\n",
      "File \u001b[1;32m~\\miniconda3\\envs\\ml_project\\lib\\site-packages\\imblearn\\__init__.py:52\u001b[0m, in \u001b[0;36m<module>\u001b[1;34m\u001b[0m\n\u001b[0;32m     48\u001b[0m     sys\u001b[38;5;241m.\u001b[39mstderr\u001b[38;5;241m.\u001b[39mwrite(\u001b[38;5;124m\"\u001b[39m\u001b[38;5;124mPartial import of imblearn during the build process.\u001b[39m\u001b[38;5;130;01m\\n\u001b[39;00m\u001b[38;5;124m\"\u001b[39m)\n\u001b[0;32m     49\u001b[0m     \u001b[38;5;66;03m# We are not importing the rest of scikit-learn during the build\u001b[39;00m\n\u001b[0;32m     50\u001b[0m     \u001b[38;5;66;03m# process, as it may not be compiled yet\u001b[39;00m\n\u001b[0;32m     51\u001b[0m \u001b[38;5;28;01melse\u001b[39;00m:\n\u001b[1;32m---> 52\u001b[0m     \u001b[38;5;28;01mfrom\u001b[39;00m \u001b[38;5;21;01m.\u001b[39;00m \u001b[38;5;28;01mimport\u001b[39;00m combine\n\u001b[0;32m     53\u001b[0m     \u001b[38;5;28;01mfrom\u001b[39;00m \u001b[38;5;21;01m.\u001b[39;00m \u001b[38;5;28;01mimport\u001b[39;00m ensemble\n\u001b[0;32m     54\u001b[0m     \u001b[38;5;28;01mfrom\u001b[39;00m \u001b[38;5;21;01m.\u001b[39;00m \u001b[38;5;28;01mimport\u001b[39;00m exceptions\n",
      "File \u001b[1;32m~\\miniconda3\\envs\\ml_project\\lib\\site-packages\\imblearn\\combine\\__init__.py:5\u001b[0m, in \u001b[0;36m<module>\u001b[1;34m\u001b[0m\n\u001b[0;32m      1\u001b[0m \u001b[38;5;124;03m\"\"\"The :mod:`imblearn.combine` provides methods which combine\u001b[39;00m\n\u001b[0;32m      2\u001b[0m \u001b[38;5;124;03mover-sampling and under-sampling.\u001b[39;00m\n\u001b[0;32m      3\u001b[0m \u001b[38;5;124;03m\"\"\"\u001b[39;00m\n\u001b[1;32m----> 5\u001b[0m \u001b[38;5;28;01mfrom\u001b[39;00m \u001b[38;5;21;01m.\u001b[39;00m\u001b[38;5;21;01m_smote_enn\u001b[39;00m \u001b[38;5;28;01mimport\u001b[39;00m SMOTEENN\n\u001b[0;32m      6\u001b[0m \u001b[38;5;28;01mfrom\u001b[39;00m \u001b[38;5;21;01m.\u001b[39;00m\u001b[38;5;21;01m_smote_tomek\u001b[39;00m \u001b[38;5;28;01mimport\u001b[39;00m SMOTETomek\n\u001b[0;32m      8\u001b[0m __all__ \u001b[38;5;241m=\u001b[39m [\u001b[38;5;124m\"\u001b[39m\u001b[38;5;124mSMOTEENN\u001b[39m\u001b[38;5;124m\"\u001b[39m, \u001b[38;5;124m\"\u001b[39m\u001b[38;5;124mSMOTETomek\u001b[39m\u001b[38;5;124m\"\u001b[39m]\n",
      "File \u001b[1;32m~\\miniconda3\\envs\\ml_project\\lib\\site-packages\\imblearn\\combine\\_smote_enn.py:11\u001b[0m, in \u001b[0;36m<module>\u001b[1;34m\u001b[0m\n\u001b[0;32m      8\u001b[0m \u001b[38;5;28;01mfrom\u001b[39;00m \u001b[38;5;21;01msklearn\u001b[39;00m\u001b[38;5;21;01m.\u001b[39;00m\u001b[38;5;21;01mutils\u001b[39;00m \u001b[38;5;28;01mimport\u001b[39;00m check_X_y\n\u001b[0;32m     10\u001b[0m \u001b[38;5;28;01mfrom\u001b[39;00m \u001b[38;5;21;01m.\u001b[39;00m\u001b[38;5;21;01m.\u001b[39;00m\u001b[38;5;21;01mbase\u001b[39;00m \u001b[38;5;28;01mimport\u001b[39;00m BaseSampler\n\u001b[1;32m---> 11\u001b[0m \u001b[38;5;28;01mfrom\u001b[39;00m \u001b[38;5;21;01m.\u001b[39;00m\u001b[38;5;21;01m.\u001b[39;00m\u001b[38;5;21;01mover_sampling\u001b[39;00m \u001b[38;5;28;01mimport\u001b[39;00m SMOTE\n\u001b[0;32m     12\u001b[0m \u001b[38;5;28;01mfrom\u001b[39;00m \u001b[38;5;21;01m.\u001b[39;00m\u001b[38;5;21;01m.\u001b[39;00m\u001b[38;5;21;01mover_sampling\u001b[39;00m\u001b[38;5;21;01m.\u001b[39;00m\u001b[38;5;21;01mbase\u001b[39;00m \u001b[38;5;28;01mimport\u001b[39;00m BaseOverSampler\n\u001b[0;32m     13\u001b[0m \u001b[38;5;28;01mfrom\u001b[39;00m \u001b[38;5;21;01m.\u001b[39;00m\u001b[38;5;21;01m.\u001b[39;00m\u001b[38;5;21;01munder_sampling\u001b[39;00m \u001b[38;5;28;01mimport\u001b[39;00m EditedNearestNeighbours\n",
      "File \u001b[1;32m~\\miniconda3\\envs\\ml_project\\lib\\site-packages\\imblearn\\over_sampling\\__init__.py:8\u001b[0m, in \u001b[0;36m<module>\u001b[1;34m\u001b[0m\n\u001b[0;32m      6\u001b[0m \u001b[38;5;28;01mfrom\u001b[39;00m \u001b[38;5;21;01m.\u001b[39;00m\u001b[38;5;21;01m_adasyn\u001b[39;00m \u001b[38;5;28;01mimport\u001b[39;00m ADASYN\n\u001b[0;32m      7\u001b[0m \u001b[38;5;28;01mfrom\u001b[39;00m \u001b[38;5;21;01m.\u001b[39;00m\u001b[38;5;21;01m_random_over_sampler\u001b[39;00m \u001b[38;5;28;01mimport\u001b[39;00m RandomOverSampler\n\u001b[1;32m----> 8\u001b[0m \u001b[38;5;28;01mfrom\u001b[39;00m \u001b[38;5;21;01m.\u001b[39;00m\u001b[38;5;21;01m_smote\u001b[39;00m \u001b[38;5;28;01mimport\u001b[39;00m SMOTE\n\u001b[0;32m      9\u001b[0m \u001b[38;5;28;01mfrom\u001b[39;00m \u001b[38;5;21;01m.\u001b[39;00m\u001b[38;5;21;01m_smote\u001b[39;00m \u001b[38;5;28;01mimport\u001b[39;00m BorderlineSMOTE\n\u001b[0;32m     10\u001b[0m \u001b[38;5;28;01mfrom\u001b[39;00m \u001b[38;5;21;01m.\u001b[39;00m\u001b[38;5;21;01m_smote\u001b[39;00m \u001b[38;5;28;01mimport\u001b[39;00m KMeansSMOTE\n",
      "File \u001b[1;32m~\\miniconda3\\envs\\ml_project\\lib\\site-packages\\imblearn\\over_sampling\\_smote\\__init__.py:5\u001b[0m, in \u001b[0;36m<module>\u001b[1;34m\u001b[0m\n\u001b[0;32m      2\u001b[0m \u001b[38;5;28;01mfrom\u001b[39;00m \u001b[38;5;21;01m.\u001b[39;00m\u001b[38;5;21;01mbase\u001b[39;00m \u001b[38;5;28;01mimport\u001b[39;00m SMOTEN\n\u001b[0;32m      3\u001b[0m \u001b[38;5;28;01mfrom\u001b[39;00m \u001b[38;5;21;01m.\u001b[39;00m\u001b[38;5;21;01mbase\u001b[39;00m \u001b[38;5;28;01mimport\u001b[39;00m SMOTENC\n\u001b[1;32m----> 5\u001b[0m \u001b[38;5;28;01mfrom\u001b[39;00m \u001b[38;5;21;01m.\u001b[39;00m\u001b[38;5;21;01mcluster\u001b[39;00m \u001b[38;5;28;01mimport\u001b[39;00m KMeansSMOTE\n\u001b[0;32m      7\u001b[0m \u001b[38;5;28;01mfrom\u001b[39;00m \u001b[38;5;21;01m.\u001b[39;00m\u001b[38;5;21;01mfilter\u001b[39;00m \u001b[38;5;28;01mimport\u001b[39;00m BorderlineSMOTE\n\u001b[0;32m      8\u001b[0m \u001b[38;5;28;01mfrom\u001b[39;00m \u001b[38;5;21;01m.\u001b[39;00m\u001b[38;5;21;01mfilter\u001b[39;00m \u001b[38;5;28;01mimport\u001b[39;00m SVMSMOTE\n",
      "File \u001b[1;32m~\\miniconda3\\envs\\ml_project\\lib\\site-packages\\imblearn\\over_sampling\\_smote\\cluster.py:14\u001b[0m, in \u001b[0;36m<module>\u001b[1;34m\u001b[0m\n\u001b[0;32m     11\u001b[0m \u001b[38;5;28;01mfrom\u001b[39;00m \u001b[38;5;21;01mscipy\u001b[39;00m \u001b[38;5;28;01mimport\u001b[39;00m sparse\n\u001b[0;32m     13\u001b[0m \u001b[38;5;28;01mfrom\u001b[39;00m \u001b[38;5;21;01msklearn\u001b[39;00m\u001b[38;5;21;01m.\u001b[39;00m\u001b[38;5;21;01mbase\u001b[39;00m \u001b[38;5;28;01mimport\u001b[39;00m clone\n\u001b[1;32m---> 14\u001b[0m \u001b[38;5;28;01mfrom\u001b[39;00m \u001b[38;5;21;01msklearn\u001b[39;00m\u001b[38;5;21;01m.\u001b[39;00m\u001b[38;5;21;01mcluster\u001b[39;00m \u001b[38;5;28;01mimport\u001b[39;00m MiniBatchKMeans\n\u001b[0;32m     15\u001b[0m \u001b[38;5;28;01mfrom\u001b[39;00m \u001b[38;5;21;01msklearn\u001b[39;00m\u001b[38;5;21;01m.\u001b[39;00m\u001b[38;5;21;01mmetrics\u001b[39;00m \u001b[38;5;28;01mimport\u001b[39;00m pairwise_distances\n\u001b[0;32m     16\u001b[0m \u001b[38;5;28;01mfrom\u001b[39;00m \u001b[38;5;21;01msklearn\u001b[39;00m\u001b[38;5;21;01m.\u001b[39;00m\u001b[38;5;21;01mutils\u001b[39;00m \u001b[38;5;28;01mimport\u001b[39;00m _safe_indexing\n",
      "File \u001b[1;32m~\\miniconda3\\envs\\ml_project\\lib\\site-packages\\sklearn\\cluster\\__init__.py:6\u001b[0m, in \u001b[0;36m<module>\u001b[1;34m\u001b[0m\n\u001b[0;32m      1\u001b[0m \u001b[38;5;124;03m\"\"\"\u001b[39;00m\n\u001b[0;32m      2\u001b[0m \u001b[38;5;124;03mThe :mod:`sklearn.cluster` module gathers popular unsupervised clustering\u001b[39;00m\n\u001b[0;32m      3\u001b[0m \u001b[38;5;124;03malgorithms.\u001b[39;00m\n\u001b[0;32m      4\u001b[0m \u001b[38;5;124;03m\"\"\"\u001b[39;00m\n\u001b[1;32m----> 6\u001b[0m \u001b[38;5;28;01mfrom\u001b[39;00m \u001b[38;5;21;01m.\u001b[39;00m\u001b[38;5;21;01m_spectral\u001b[39;00m \u001b[38;5;28;01mimport\u001b[39;00m spectral_clustering, SpectralClustering\n\u001b[0;32m      7\u001b[0m \u001b[38;5;28;01mfrom\u001b[39;00m \u001b[38;5;21;01m.\u001b[39;00m\u001b[38;5;21;01m_mean_shift\u001b[39;00m \u001b[38;5;28;01mimport\u001b[39;00m mean_shift, MeanShift, estimate_bandwidth, get_bin_seeds\n\u001b[0;32m      8\u001b[0m \u001b[38;5;28;01mfrom\u001b[39;00m \u001b[38;5;21;01m.\u001b[39;00m\u001b[38;5;21;01m_affinity_propagation\u001b[39;00m \u001b[38;5;28;01mimport\u001b[39;00m affinity_propagation, AffinityPropagation\n",
      "File \u001b[1;32m~\\miniconda3\\envs\\ml_project\\lib\\site-packages\\sklearn\\cluster\\_spectral.py:21\u001b[0m, in \u001b[0;36m<module>\u001b[1;34m\u001b[0m\n\u001b[0;32m     19\u001b[0m \u001b[38;5;28;01mfrom\u001b[39;00m \u001b[38;5;21;01m.\u001b[39;00m\u001b[38;5;21;01m.\u001b[39;00m\u001b[38;5;21;01mmetrics\u001b[39;00m\u001b[38;5;21;01m.\u001b[39;00m\u001b[38;5;21;01mpairwise\u001b[39;00m \u001b[38;5;28;01mimport\u001b[39;00m pairwise_kernels\n\u001b[0;32m     20\u001b[0m \u001b[38;5;28;01mfrom\u001b[39;00m \u001b[38;5;21;01m.\u001b[39;00m\u001b[38;5;21;01m.\u001b[39;00m\u001b[38;5;21;01mneighbors\u001b[39;00m \u001b[38;5;28;01mimport\u001b[39;00m kneighbors_graph, NearestNeighbors\n\u001b[1;32m---> 21\u001b[0m \u001b[38;5;28;01mfrom\u001b[39;00m \u001b[38;5;21;01m.\u001b[39;00m\u001b[38;5;21;01m.\u001b[39;00m\u001b[38;5;21;01mmanifold\u001b[39;00m \u001b[38;5;28;01mimport\u001b[39;00m spectral_embedding\n\u001b[0;32m     22\u001b[0m \u001b[38;5;28;01mfrom\u001b[39;00m \u001b[38;5;21;01m.\u001b[39;00m\u001b[38;5;21;01m_kmeans\u001b[39;00m \u001b[38;5;28;01mimport\u001b[39;00m k_means\n\u001b[0;32m     25\u001b[0m \u001b[38;5;28;01mdef\u001b[39;00m \u001b[38;5;21mcluster_qr\u001b[39m(vectors):\n",
      "File \u001b[1;32m~\\miniconda3\\envs\\ml_project\\lib\\site-packages\\sklearn\\manifold\\__init__.py:5\u001b[0m, in \u001b[0;36m<module>\u001b[1;34m\u001b[0m\n\u001b[0;32m      1\u001b[0m \u001b[38;5;124;03m\"\"\"\u001b[39;00m\n\u001b[0;32m      2\u001b[0m \u001b[38;5;124;03mThe :mod:`sklearn.manifold` module implements data embedding techniques.\u001b[39;00m\n\u001b[0;32m      3\u001b[0m \u001b[38;5;124;03m\"\"\"\u001b[39;00m\n\u001b[1;32m----> 5\u001b[0m \u001b[38;5;28;01mfrom\u001b[39;00m \u001b[38;5;21;01m.\u001b[39;00m\u001b[38;5;21;01m_locally_linear\u001b[39;00m \u001b[38;5;28;01mimport\u001b[39;00m locally_linear_embedding, LocallyLinearEmbedding\n\u001b[0;32m      6\u001b[0m \u001b[38;5;28;01mfrom\u001b[39;00m \u001b[38;5;21;01m.\u001b[39;00m\u001b[38;5;21;01m_isomap\u001b[39;00m \u001b[38;5;28;01mimport\u001b[39;00m Isomap\n\u001b[0;32m      7\u001b[0m \u001b[38;5;28;01mfrom\u001b[39;00m \u001b[38;5;21;01m.\u001b[39;00m\u001b[38;5;21;01m_mds\u001b[39;00m \u001b[38;5;28;01mimport\u001b[39;00m MDS, smacof\n",
      "File \u001b[1;32m~\\miniconda3\\envs\\ml_project\\lib\\site-packages\\sklearn\\manifold\\_locally_linear.py:12\u001b[0m, in \u001b[0;36m<module>\u001b[1;34m\u001b[0m\n\u001b[0;32m      9\u001b[0m \u001b[38;5;28;01mfrom\u001b[39;00m \u001b[38;5;21;01mscipy\u001b[39;00m\u001b[38;5;21;01m.\u001b[39;00m\u001b[38;5;21;01msparse\u001b[39;00m \u001b[38;5;28;01mimport\u001b[39;00m eye, csr_matrix\n\u001b[0;32m     10\u001b[0m \u001b[38;5;28;01mfrom\u001b[39;00m \u001b[38;5;21;01mscipy\u001b[39;00m\u001b[38;5;21;01m.\u001b[39;00m\u001b[38;5;21;01msparse\u001b[39;00m\u001b[38;5;21;01m.\u001b[39;00m\u001b[38;5;21;01mlinalg\u001b[39;00m \u001b[38;5;28;01mimport\u001b[39;00m eigsh\n\u001b[1;32m---> 12\u001b[0m \u001b[38;5;28;01mfrom\u001b[39;00m \u001b[38;5;21;01m.\u001b[39;00m\u001b[38;5;21;01m.\u001b[39;00m\u001b[38;5;21;01mbase\u001b[39;00m \u001b[38;5;28;01mimport\u001b[39;00m (\n\u001b[0;32m     13\u001b[0m     BaseEstimator,\n\u001b[0;32m     14\u001b[0m     TransformerMixin,\n\u001b[0;32m     15\u001b[0m     _UnstableArchMixin,\n\u001b[0;32m     16\u001b[0m     _ClassNamePrefixFeaturesOutMixin,\n\u001b[0;32m     17\u001b[0m )\n\u001b[0;32m     18\u001b[0m \u001b[38;5;28;01mfrom\u001b[39;00m \u001b[38;5;21;01m.\u001b[39;00m\u001b[38;5;21;01m.\u001b[39;00m\u001b[38;5;21;01mutils\u001b[39;00m \u001b[38;5;28;01mimport\u001b[39;00m check_random_state, check_array\n\u001b[0;32m     19\u001b[0m \u001b[38;5;28;01mfrom\u001b[39;00m \u001b[38;5;21;01m.\u001b[39;00m\u001b[38;5;21;01m.\u001b[39;00m\u001b[38;5;21;01mutils\u001b[39;00m\u001b[38;5;21;01m.\u001b[39;00m\u001b[38;5;21;01m_arpack\u001b[39;00m \u001b[38;5;28;01mimport\u001b[39;00m _init_arpack_v0\n",
      "\u001b[1;31mImportError\u001b[0m: cannot import name '_ClassNamePrefixFeaturesOutMixin' from 'sklearn.base' (C:\\Users\\48502\\miniconda3\\envs\\ml_project\\lib\\site-packages\\sklearn\\base.py)"
     ]
    }
   ],
   "source": [
    "import os\n",
    "from collections import Counter\n",
    "import numpy as np\n",
    "import pandas as pd\n",
    "import seaborn as sns\n",
    "import matplotlib.pyplot as plt\n",
    "\n",
    "from sklearn.pipeline import Pipeline\n",
    "from sklearn.preprocessing import StandardScaler, MinMaxScaler, Binarizer\n",
    "from sklearn.decomposition import PCA\n",
    "from sklearn.model_selection import GridSearchCV, cross_val_score, RepeatedStratifiedKFold, train_test_split\n",
    "from sklearn.feature_selection import SelectKBest, chi2, f_classif, RFE\n",
    "from sklearn.svm import SVC, LinearSVC\n",
    "from sklearn.linear_model import LogisticRegression\n",
    "from sklearn.neighbors import KNeighborsClassifier\n",
    "from sklearn.neural_network import MLPClassifier\n",
    "from sklearn.ensemble import AdaBoostClassifier, GradientBoostingClassifier, ExtraTreesClassifier \n",
    "from sklearn.naive_bayes import GaussianNB\n",
    "from sklearn.metrics import f1_score\n",
    "\n",
    "from imblearn.over_sampling import RandomOverSampler\n",
    "from imblearn.under_sampling import RandomUnderSampler\n",
    "from hpsklearn import HyperoptEstimator, any_classifier, any_preprocessing\n",
    "from hyperopt import tpe\n",
    "\n",
    "import neptune.new as neptune"
   ]
  },
  {
   "cell_type": "code",
   "execution_count": 138,
   "id": "47440c19",
   "metadata": {},
   "outputs": [
    {
     "name": "stdout",
     "output_type": "stream",
     "text": [
      "https://app.neptune.ai/julia.grzegorowska/ml-project/e/MLPROJ-8\n",
      "Remember to stop your run once you’ve finished logging your metadata (https://docs.neptune.ai/api-reference/run#.stop). It will be stopped automatically only when the notebook kernel/interactive console is terminated.\n"
     ]
    }
   ],
   "source": [
    "import neptune.new as neptune\n",
    "\n",
    "run = neptune.init(\n",
    "    project=\"julia.grzegorowska/ml-project\",\n",
    "    api_token=\"eyJhcGlfYWRkcmVzcyI6Imh0dHBzOi8vYXBwLm5lcHR1bmUuYWkiLCJhcGlfdXJsIjoiaHR0cHM6Ly9hcHAubmVwdHVuZS5haSIsImFwaV9rZXkiOiI0YzMwMDM2OC04YzdlLTQxOGEtYmEzYi0xZTA3ZmQzMjlkNzIifQ==\",\n",
    ")\n",
    "\n",
    "params = {\n",
    "    \"optimizer\": \"Julia\"\n",
    "}\n",
    "run[\"parameters\"] = params\n",
    "\n",
    "\n",
    "def send_data_neptune(data, plot_name):\n",
    "    for epoch in range(0, len(data)):\n",
    "      run[plot_name].log(data[epoch])\n",
    "\n",
    "def single_record(record, record_name):\n",
    "    run[record_name] = record\n",
    "\n",
    "def stop_run():\n",
    "    run.stop()"
   ]
  },
  {
   "cell_type": "code",
   "execution_count": 139,
   "id": "da8de10e",
   "metadata": {},
   "outputs": [],
   "source": [
    "os.environ[\"OMP_NUM_THREADS\"] = \"1\""
   ]
  },
  {
   "cell_type": "code",
   "execution_count": 140,
   "id": "d42b574b",
   "metadata": {},
   "outputs": [],
   "source": [
    "seed = np.random.seed(147)"
   ]
  },
  {
   "cell_type": "code",
   "execution_count": 141,
   "id": "2c85e47a",
   "metadata": {},
   "outputs": [],
   "source": [
    "def data_load() -> list:\n",
    "\n",
    "    train_data_out = pd.read_csv(\"data/train_data.csv\", header=None)\n",
    "    test_data_out = pd.read_csv(\"data/test_data.csv\", header=None)\n",
    "    train_labels_out = pd.read_csv(\"data/train_labels.csv\", header=None)\n",
    "\n",
    "    a = train_labels.values\n",
    "    tmp = []\n",
    "    for i in range(0, len(a)):\n",
    "      tmp.append(int(a[i]))\n",
    "\n",
    "    send_data_neptune(tmp, \"train_labels\")\n",
    "    \n",
    "    return [train_data, test_data, train_labels]"
   ]
  },
  {
   "cell_type": "code",
   "execution_count": 142,
   "id": "81dee167",
   "metadata": {},
   "outputs": [],
   "source": [
    "train_data, test_data, train_labels = data_load()"
   ]
  },
  {
   "cell_type": "code",
   "execution_count": 143,
   "id": "b9aec1dd",
   "metadata": {},
   "outputs": [],
   "source": [
    "train_labels_ravel = train_labels.values.ravel()"
   ]
  },
  {
   "cell_type": "code",
   "execution_count": 171,
   "id": "5a954199",
   "metadata": {},
   "outputs": [],
   "source": [
    "def pipeline_standard_minmax(X_1, X_2: pd.DataFrame) -> np.array:\n",
    "\n",
    "    pipeline = Pipeline([\n",
    "    (\"std\", StandardScaler()),\n",
    "    (\"minmax\", MinMaxScaler())])\n",
    "    \n",
    "    train_std_minmax = pipeline.fit_transform(X_1)\n",
    "    test_std_minmax = pipeline.fit_transform(X_2)\n",
    "    \n",
    "    return [train_std_minmax, train_std_minmax]"
   ]
  },
  {
   "cell_type": "code",
   "execution_count": 172,
   "id": "969a8575",
   "metadata": {},
   "outputs": [],
   "source": [
    "train_std_minmax, test_std_minmax = pipeline_standard_minmax(train_data, test_data)"
   ]
  },
  {
   "cell_type": "code",
   "execution_count": 173,
   "id": "f389da4a",
   "metadata": {},
   "outputs": [],
   "source": [
    "k=int(len(train_data.columns)/3)"
   ]
  },
  {
   "cell_type": "code",
   "execution_count": 174,
   "id": "43f5e3ef",
   "metadata": {},
   "outputs": [],
   "source": [
    "def kbest_select(X_1, X_2, y_1: np.array, n_of_kbest: int) -> np.array:\n",
    "    \"\"\"Univariate Selection\"\"\"\n",
    "    \n",
    "    print(f\"Shape before: {X_1.shape}\\n\")\n",
    "    \n",
    "    test = SelectKBest(score_func=f_classif, k=n_of_kbest)\n",
    "    fit = test.fit(X_1, y_1)\n",
    "    features_first = fit.transform(X_1)\n",
    "    features_second = fit.transform(X_2)\n",
    "    \n",
    "    scores = fit.scores_\n",
    "    score_df = pd.DataFrame(scores, columns=[\"Scores\"])\n",
    "    print(f\"Min score: {min(score_df.Scores)}, max score: {max(score_df.Scores)}, mean score: {np.mean(score_df.Scores)}\\n\")    \n",
    "    print(f\"Shape after: {features_first.shape}\\n\")\n",
    "    \n",
    "    score_df.drop(score_df[score_df.Scores < 1].index, inplace=True)\n",
    "    l = len(score_df)\n",
    "    \n",
    "    if l != n_of_kbest:\n",
    "        return kbest_select(train_std_minmax, test_std_minmax, train_labels_ravel, l)\n",
    "    else:\n",
    "        return [features_first, features_second]"
   ]
  },
  {
   "cell_type": "code",
   "execution_count": 175,
   "id": "5a655ab2",
   "metadata": {},
   "outputs": [
    {
     "name": "stdout",
     "output_type": "stream",
     "text": [
      "Shape before: (3750, 10000)\n",
      "\n",
      "Min score: 1.7567042700994732e-09, max score: 17.321255892491074, mean score: 1.000380011727585\n",
      "\n",
      "Shape after: (3750, 3333)\n",
      "\n",
      "Shape before: (3750, 10000)\n",
      "\n",
      "Min score: 1.7567042700994732e-09, max score: 17.321255892491074, mean score: 1.000380011727585\n",
      "\n",
      "Shape after: (3750, 3177)\n",
      "\n"
     ]
    }
   ],
   "source": [
    "kbest_select, kbest_select = kbest_select(train_std_minmax, test_std_minmax, train_labels_ravel,k)"
   ]
  },
  {
   "cell_type": "code",
   "execution_count": 176,
   "id": "60cea686",
   "metadata": {},
   "outputs": [],
   "source": [
    "def pca_select(X_1, X_2: np.array) -> np.array:\n",
    "    \n",
    "    print(f\"Shape before transforamtion: {X_1.shape}\\n\")\n",
    "    \n",
    "    scaler = MinMaxScaler(feature_range = (0, 1))\n",
    "    pca = PCA(n_components=100, random_state=seed)\n",
    "    fit = pca.fit(X_1)\n",
    "    features_first = fit.transform(X_1)\n",
    "    features_second = fit.transform(X_2)\n",
    "    \n",
    "    print(f\"Explained Variance: \\n{fit.explained_variance_ratio_}\\n\")\n",
    "    print(f\"Shape after transormation: {features_first.shape}\")\n",
    "\n",
    "    send_data_neptune(fit.explained_variance_ratio_)\n",
    "    \n",
    "    return [features_first, features_second]"
   ]
  },
  {
   "cell_type": "code",
   "execution_count": 178,
   "id": "2e9e5e17",
   "metadata": {},
   "outputs": [
    {
     "ename": "NameError",
     "evalue": "name 'kbest_train' is not defined",
     "output_type": "error",
     "traceback": [
      "\u001b[1;31m---------------------------------------------------------------------------\u001b[0m",
      "\u001b[1;31mNameError\u001b[0m                                 Traceback (most recent call last)",
      "Input \u001b[1;32mIn [178]\u001b[0m, in \u001b[0;36m<cell line: 1>\u001b[1;34m()\u001b[0m\n\u001b[1;32m----> 1\u001b[0m pca_train, pca_test \u001b[38;5;241m=\u001b[39m pca_select(\u001b[43mkbest_train\u001b[49m, kbest_test)\n",
      "\u001b[1;31mNameError\u001b[0m: name 'kbest_train' is not defined"
     ]
    }
   ],
   "source": [
    "pca_train, pca_test = pca_select(kbest_train, kbest_test)"
   ]
  },
  {
   "cell_type": "code",
   "execution_count": 179,
   "id": "050b4e63",
   "metadata": {},
   "outputs": [],
   "source": [
    "def rfe_select(X_1, X_2, y_1: np.array) -> np.array:\n",
    "    \n",
    "    print(f\"Shape before transformation: {X_1.shape}\\n\")\n",
    "    \n",
    "    model = LogisticRegression()\n",
    "    svc = SVC(kernel=\"linear\", C=1, random_state=seed)\n",
    "    rfe = RFE(estimator=svc, n_features_to_select=5)\n",
    "    fit = rfe.fit(X_1, y_1)\n",
    "    first_features = fit.transform(X_1)\n",
    "    second_features = fit.transform(X_2)\n",
    "    \n",
    "    print(f\"Feature Ranking: \\n{fit.ranking_}\\n\")\n",
    "    print(f\"Shape after: {first_features.shape}\\n\")\n",
    "\n",
    "    send_data_neptune(fit.ranking_)\n",
    "    \n",
    "    return [first_features, second_features]"
   ]
  },
  {
   "cell_type": "code",
   "execution_count": 180,
   "id": "c74f1b71",
   "metadata": {},
   "outputs": [
    {
     "name": "stdout",
     "output_type": "stream",
     "text": [
      "Shape before transformation: (3750, 100)\n",
      "\n",
      "Feature Ranking: \n",
      "[ 1 78  4 17 84  2 85 94 36  1 38 33 75 10 81 73 11 64 42 44  3  7 70 52\n",
      " 69 20 40  9 74 95 83 30 56 13 32 57 65 76 79 27 62 66 47  1  5 26  1 92\n",
      "  8 41 34 25 45 58 22 12 50 90 35 60 80 29 71 59 53 67 82 46 14  6 89 31\n",
      " 23 55 51 61 16 96 88 24 91 86 28 15 48 19 93 18 63 77 43 49  1 72 87 54\n",
      " 37 68 39 21]\n",
      "\n",
      "Shape after: (3750, 5)\n",
      "\n"
     ]
    },
    {
     "ename": "TypeError",
     "evalue": "send_data_neptune() missing 1 required positional argument: 'plot_name'",
     "output_type": "error",
     "traceback": [
      "\u001b[1;31m---------------------------------------------------------------------------\u001b[0m",
      "\u001b[1;31mTypeError\u001b[0m                                 Traceback (most recent call last)",
      "Input \u001b[1;32mIn [180]\u001b[0m, in \u001b[0;36m<cell line: 1>\u001b[1;34m()\u001b[0m\n\u001b[1;32m----> 1\u001b[0m rfe_train, rfe_test \u001b[38;5;241m=\u001b[39m \u001b[43mrfe_select\u001b[49m\u001b[43m(\u001b[49m\u001b[43mpca_train\u001b[49m\u001b[43m,\u001b[49m\u001b[43m \u001b[49m\u001b[43mpca_test\u001b[49m\u001b[43m,\u001b[49m\u001b[43m \u001b[49m\u001b[43mtrain_labels_ravel\u001b[49m\u001b[43m)\u001b[49m\n",
      "Input \u001b[1;32mIn [179]\u001b[0m, in \u001b[0;36mrfe_select\u001b[1;34m(X_1, X_2, y_1)\u001b[0m\n\u001b[0;32m     12\u001b[0m \u001b[38;5;28mprint\u001b[39m(\u001b[38;5;124mf\u001b[39m\u001b[38;5;124m\"\u001b[39m\u001b[38;5;124mFeature Ranking: \u001b[39m\u001b[38;5;130;01m\\n\u001b[39;00m\u001b[38;5;132;01m{\u001b[39;00mfit\u001b[38;5;241m.\u001b[39mranking_\u001b[38;5;132;01m}\u001b[39;00m\u001b[38;5;130;01m\\n\u001b[39;00m\u001b[38;5;124m\"\u001b[39m)\n\u001b[0;32m     13\u001b[0m \u001b[38;5;28mprint\u001b[39m(\u001b[38;5;124mf\u001b[39m\u001b[38;5;124m\"\u001b[39m\u001b[38;5;124mShape after: \u001b[39m\u001b[38;5;132;01m{\u001b[39;00mfirst_features\u001b[38;5;241m.\u001b[39mshape\u001b[38;5;132;01m}\u001b[39;00m\u001b[38;5;130;01m\\n\u001b[39;00m\u001b[38;5;124m\"\u001b[39m)\n\u001b[1;32m---> 15\u001b[0m \u001b[43msend_data_neptune\u001b[49m\u001b[43m(\u001b[49m\u001b[43mfit\u001b[49m\u001b[38;5;241;43m.\u001b[39;49m\u001b[43mranking_\u001b[49m\u001b[43m)\u001b[49m\n\u001b[0;32m     17\u001b[0m \u001b[38;5;28;01mreturn\u001b[39;00m [first_features, second_features]\n",
      "\u001b[1;31mTypeError\u001b[0m: send_data_neptune() missing 1 required positional argument: 'plot_name'"
     ]
    }
   ],
   "source": [
    "rfe_train, rfe_test = rfe_select(pca_train, pca_test, train_labels_ravel)"
   ]
  },
  {
   "cell_type": "code",
   "execution_count": null,
   "id": "ecb57075",
   "metadata": {},
   "outputs": [],
   "source": []
  }
 ],
 "metadata": {
  "kernelspec": {
   "display_name": "Python 3 (ipykernel)",
   "language": "python",
   "name": "python3"
  },
  "language_info": {
   "codemirror_mode": {
    "name": "ipython",
    "version": 3
   },
   "file_extension": ".py",
   "mimetype": "text/x-python",
   "name": "python",
   "nbconvert_exporter": "python",
   "pygments_lexer": "ipython3",
   "version": "3.8.10"
  }
 },
 "nbformat": 4,
 "nbformat_minor": 5
}
