{
 "cells": [
  {
   "cell_type": "code",
   "execution_count": 2,
   "id": "df4ba2f8",
   "metadata": {},
   "outputs": [
    {
     "name": "stdout",
     "output_type": "stream",
     "text": [
      "Requirement already satisfied: neptune-client in c:\\users\\48502\\anaconda3\\lib\\site-packages (0.16.3)\n",
      "Requirement already satisfied: six>=1.12.0 in c:\\users\\48502\\anaconda3\\lib\\site-packages (from neptune-client) (1.15.0)\n",
      "Requirement already satisfied: GitPython>=2.0.8 in c:\\users\\48502\\anaconda3\\lib\\site-packages (from neptune-client) (3.1.27)\n",
      "Requirement already satisfied: packaging in c:\\users\\48502\\anaconda3\\lib\\site-packages (from neptune-client) (20.9)\n",
      "Requirement already satisfied: urllib3 in c:\\users\\48502\\anaconda3\\lib\\site-packages (from neptune-client) (1.26.4)\n",
      "Requirement already satisfied: bravado in c:\\users\\48502\\anaconda3\\lib\\site-packages (from neptune-client) (11.0.3)\n",
      "Requirement already satisfied: pandas in c:\\users\\48502\\anaconda3\\lib\\site-packages (from neptune-client) (1.2.4)\n",
      "Requirement already satisfied: click>=7.0 in c:\\users\\48502\\anaconda3\\lib\\site-packages (from neptune-client) (7.1.2)\n",
      "Requirement already satisfied: boto3>=1.16.0 in c:\\users\\48502\\anaconda3\\lib\\site-packages (from neptune-client) (1.24.3)\n",
      "Requirement already satisfied: psutil in c:\\users\\48502\\anaconda3\\lib\\site-packages (from neptune-client) (5.8.0)\n",
      "Requirement already satisfied: future>=0.17.1 in c:\\users\\48502\\anaconda3\\lib\\site-packages (from neptune-client) (0.18.2)\n",
      "Requirement already satisfied: websocket-client!=1.0.0,>=0.35.0 in c:\\users\\48502\\anaconda3\\lib\\site-packages (from neptune-client) (1.3.2)\n",
      "Requirement already satisfied: Pillow>=1.1.6 in c:\\users\\48502\\anaconda3\\lib\\site-packages (from neptune-client) (8.2.0)\n",
      "Requirement already satisfied: requests>=2.20.0 in c:\\users\\48502\\anaconda3\\lib\\site-packages (from neptune-client) (2.25.1)\n",
      "Requirement already satisfied: oauthlib>=2.1.0 in c:\\users\\48502\\anaconda3\\lib\\site-packages (from neptune-client) (3.2.0)\n",
      "Requirement already satisfied: swagger-spec-validator>=2.7.4 in c:\\users\\48502\\anaconda3\\lib\\site-packages (from neptune-client) (2.7.4)\n",
      "Requirement already satisfied: PyJWT in c:\\users\\48502\\anaconda3\\lib\\site-packages (from neptune-client) (2.4.0)\n",
      "Requirement already satisfied: requests-oauthlib>=1.0.0 in c:\\users\\48502\\anaconda3\\lib\\site-packages (from neptune-client) (1.3.1)\n",
      "Requirement already satisfied: s3transfer<0.7.0,>=0.6.0 in c:\\users\\48502\\anaconda3\\lib\\site-packages (from boto3>=1.16.0->neptune-client) (0.6.0)\n",
      "Requirement already satisfied: botocore<1.28.0,>=1.27.3 in c:\\users\\48502\\anaconda3\\lib\\site-packages (from boto3>=1.16.0->neptune-client) (1.27.3)\n",
      "Requirement already satisfied: jmespath<2.0.0,>=0.7.1 in c:\\users\\48502\\anaconda3\\lib\\site-packages (from boto3>=1.16.0->neptune-client) (1.0.0)\n",
      "Requirement already satisfied: python-dateutil<3.0.0,>=2.1 in c:\\users\\48502\\anaconda3\\lib\\site-packages (from botocore<1.28.0,>=1.27.3->boto3>=1.16.0->neptune-client) (2.8.1)\n",
      "Requirement already satisfied: gitdb<5,>=4.0.1 in c:\\users\\48502\\anaconda3\\lib\\site-packages (from GitPython>=2.0.8->neptune-client) (4.0.9)\n",
      "Requirement already satisfied: smmap<6,>=3.0.1 in c:\\users\\48502\\anaconda3\\lib\\site-packages (from gitdb<5,>=4.0.1->GitPython>=2.0.8->neptune-client) (5.0.0)\n",
      "Requirement already satisfied: idna<3,>=2.5 in c:\\users\\48502\\anaconda3\\lib\\site-packages (from requests>=2.20.0->neptune-client) (2.10)\n",
      "Requirement already satisfied: chardet<5,>=3.0.2 in c:\\users\\48502\\anaconda3\\lib\\site-packages (from requests>=2.20.0->neptune-client) (4.0.0)\n",
      "Requirement already satisfied: certifi>=2017.4.17 in c:\\users\\48502\\anaconda3\\lib\\site-packages (from requests>=2.20.0->neptune-client) (2020.12.5)\n",
      "Requirement already satisfied: jsonschema in c:\\users\\48502\\anaconda3\\lib\\site-packages (from swagger-spec-validator>=2.7.4->neptune-client) (3.2.0)\n",
      "Requirement already satisfied: pyyaml in c:\\users\\48502\\anaconda3\\lib\\site-packages (from swagger-spec-validator>=2.7.4->neptune-client) (5.4.1)\n",
      "Requirement already satisfied: msgpack in c:\\users\\48502\\anaconda3\\lib\\site-packages (from bravado->neptune-client) (1.0.2)\n",
      "Requirement already satisfied: simplejson in c:\\users\\48502\\anaconda3\\lib\\site-packages (from bravado->neptune-client) (3.17.6)\n",
      "Requirement already satisfied: monotonic in c:\\users\\48502\\anaconda3\\lib\\site-packages (from bravado->neptune-client) (1.6)\n",
      "Requirement already satisfied: typing-extensions in c:\\users\\48502\\anaconda3\\lib\\site-packages (from bravado->neptune-client) (3.7.4.3)\n",
      "Requirement already satisfied: bravado-core>=5.16.1 in c:\\users\\48502\\anaconda3\\lib\\site-packages (from bravado->neptune-client) (5.17.0)\n",
      "Requirement already satisfied: pytz in c:\\users\\48502\\anaconda3\\lib\\site-packages (from bravado-core>=5.16.1->bravado->neptune-client) (2021.1)\n",
      "Requirement already satisfied: jsonref in c:\\users\\48502\\anaconda3\\lib\\site-packages (from bravado-core>=5.16.1->bravado->neptune-client) (0.2)\n",
      "Requirement already satisfied: attrs>=17.4.0 in c:\\users\\48502\\anaconda3\\lib\\site-packages (from jsonschema->swagger-spec-validator>=2.7.4->neptune-client) (20.3.0)\n",
      "Requirement already satisfied: setuptools in c:\\users\\48502\\anaconda3\\lib\\site-packages (from jsonschema->swagger-spec-validator>=2.7.4->neptune-client) (52.0.0.post20210125)\n",
      "Requirement already satisfied: pyrsistent>=0.14.0 in c:\\users\\48502\\anaconda3\\lib\\site-packages (from jsonschema->swagger-spec-validator>=2.7.4->neptune-client) (0.17.3)\n",
      "Requirement already satisfied: webcolors in c:\\users\\48502\\anaconda3\\lib\\site-packages (from jsonschema->swagger-spec-validator>=2.7.4->neptune-client) (1.12)\n",
      "Requirement already satisfied: strict-rfc3339 in c:\\users\\48502\\anaconda3\\lib\\site-packages (from jsonschema->swagger-spec-validator>=2.7.4->neptune-client) (0.7)\n",
      "Requirement already satisfied: jsonpointer>1.13 in c:\\users\\48502\\anaconda3\\lib\\site-packages (from jsonschema->swagger-spec-validator>=2.7.4->neptune-client) (2.3)\n",
      "Requirement already satisfied: rfc3987 in c:\\users\\48502\\anaconda3\\lib\\site-packages (from jsonschema->swagger-spec-validator>=2.7.4->neptune-client) (1.3.8)\n",
      "Requirement already satisfied: pyparsing>=2.0.2 in c:\\users\\48502\\anaconda3\\lib\\site-packages (from packaging->neptune-client) (2.4.7)\n",
      "Requirement already satisfied: numpy>=1.16.5 in c:\\users\\48502\\anaconda3\\lib\\site-packages (from pandas->neptune-client) (1.20.1)\n",
      "Requirement already satisfied: hpsklearn in c:\\users\\48502\\anaconda3\\lib\\site-packages (0.1.0)\n",
      "Requirement already satisfied: scikit-learn in c:\\users\\48502\\anaconda3\\lib\\site-packages (from hpsklearn) (0.24.1)\n",
      "Requirement already satisfied: nose in c:\\users\\48502\\anaconda3\\lib\\site-packages (from hpsklearn) (1.3.7)\n",
      "Requirement already satisfied: scipy in c:\\users\\48502\\anaconda3\\lib\\site-packages (from hpsklearn) (1.6.2)\n",
      "Requirement already satisfied: hyperopt in c:\\users\\48502\\anaconda3\\lib\\site-packages (from hpsklearn) (0.2.7)\n",
      "Requirement already satisfied: numpy in c:\\users\\48502\\anaconda3\\lib\\site-packages (from hpsklearn) (1.20.1)\n",
      "Requirement already satisfied: cloudpickle in c:\\users\\48502\\anaconda3\\lib\\site-packages (from hyperopt->hpsklearn) (1.6.0)\n",
      "Requirement already satisfied: future in c:\\users\\48502\\anaconda3\\lib\\site-packages (from hyperopt->hpsklearn) (0.18.2)\n",
      "Requirement already satisfied: tqdm in c:\\users\\48502\\anaconda3\\lib\\site-packages (from hyperopt->hpsklearn) (4.59.0)\n",
      "Requirement already satisfied: six in c:\\users\\48502\\anaconda3\\lib\\site-packages (from hyperopt->hpsklearn) (1.15.0)\n",
      "Requirement already satisfied: networkx>=2.2 in c:\\users\\48502\\anaconda3\\lib\\site-packages (from hyperopt->hpsklearn) (2.5)\n",
      "Requirement already satisfied: py4j in c:\\users\\48502\\anaconda3\\lib\\site-packages (from hyperopt->hpsklearn) (0.10.9.5)\n",
      "Requirement already satisfied: decorator>=4.3.0 in c:\\users\\48502\\anaconda3\\lib\\site-packages (from networkx>=2.2->hyperopt->hpsklearn) (5.0.6)\n",
      "Requirement already satisfied: threadpoolctl>=2.0.0 in c:\\users\\48502\\anaconda3\\lib\\site-packages (from scikit-learn->hpsklearn) (2.1.0)\n",
      "Requirement already satisfied: joblib>=0.11 in c:\\users\\48502\\anaconda3\\lib\\site-packages (from scikit-learn->hpsklearn) (1.0.1)\n"
     ]
    }
   ],
   "source": [
    "!pip install neptune-client\n",
    "!pip install hpsklearn\n",
    "!pip install --upgrade --quiet neptune-client"
   ]
  },
  {
   "cell_type": "code",
   "execution_count": 5,
   "id": "a935b114",
   "metadata": {},
   "outputs": [
    {
     "ename": "ModuleNotFoundError",
     "evalue": "No module named 'imblearn'",
     "output_type": "error",
     "traceback": [
      "\u001b[1;31m---------------------------------------------------------------------------\u001b[0m",
      "\u001b[1;31mModuleNotFoundError\u001b[0m                       Traceback (most recent call last)",
      "\u001b[1;32m<ipython-input-5-59f69428d7cd>\u001b[0m in \u001b[0;36m<module>\u001b[1;34m\u001b[0m\n\u001b[0;32m     24\u001b[0m \u001b[1;32mfrom\u001b[0m \u001b[0msklearn\u001b[0m\u001b[1;33m.\u001b[0m\u001b[0mmetrics\u001b[0m \u001b[1;32mimport\u001b[0m \u001b[0mf1_score\u001b[0m\u001b[1;33m\u001b[0m\u001b[1;33m\u001b[0m\u001b[0m\n\u001b[0;32m     25\u001b[0m \u001b[1;33m\u001b[0m\u001b[0m\n\u001b[1;32m---> 26\u001b[1;33m \u001b[1;32mfrom\u001b[0m \u001b[0mimblearn\u001b[0m\u001b[1;33m.\u001b[0m\u001b[0mover_sampling\u001b[0m \u001b[1;32mimport\u001b[0m \u001b[0mRandomOverSampler\u001b[0m\u001b[1;33m\u001b[0m\u001b[1;33m\u001b[0m\u001b[0m\n\u001b[0m\u001b[0;32m     27\u001b[0m \u001b[1;32mfrom\u001b[0m \u001b[0mimblearn\u001b[0m\u001b[1;33m.\u001b[0m\u001b[0munder_sampling\u001b[0m \u001b[1;32mimport\u001b[0m \u001b[0mRandomUnderSampler\u001b[0m\u001b[1;33m\u001b[0m\u001b[1;33m\u001b[0m\u001b[0m\n\u001b[0;32m     28\u001b[0m \u001b[1;33m\u001b[0m\u001b[0m\n",
      "\u001b[1;31mModuleNotFoundError\u001b[0m: No module named 'imblearn'"
     ]
    }
   ],
   "source": [
    "import os\n",
    "from collections import Counter\n",
    "\n",
    "import numpy as np\n",
    "import pandas as pd\n",
    "import seaborn as sns\n",
    "import matplotlib.pyplot as plt\n",
    "\n",
    "from sklearn.pipeline import Pipeline\n",
    "from sklearn.preprocessing import StandardScaler, MinMaxScaler\n",
    "from sklearn.decomposition import PCA\n",
    "from sklearn.model_selection import GridSearchCV, cross_val_score\n",
    "from sklearn.model_selection import RepeatedStratifiedKFold, train_test_split\n",
    "from sklearn.feature_selection import SelectKBest, f_classif, RFE\n",
    "\n",
    "from sklearn.svm import SVC, LinearSVC\n",
    "from sklearn.linear_model import LogisticRegression\n",
    "from sklearn.neighbors import KNeighborsClassifier\n",
    "from sklearn.neural_network import MLPClassifier\n",
    "from sklearn.ensemble import AdaBoostClassifier, GradientBoostingClassifier\n",
    "from sklearn.ensemble import RandomForestClassifier, ExtraTreesClassifier \n",
    "from sklearn.naive_bayes import GaussianNB\n",
    "\n",
    "from sklearn.metrics import f1_score\n",
    "\n",
    "from imblearn.over_sampling import RandomOverSampler\n",
    "from imblearn.under_sampling import RandomUnderSampler\n",
    "\n",
    "from hpsklearn import HyperoptEstimator\n",
    "from hpsklearn import any_classifier\n",
    "from hpsklearn import any_preprocessing\n",
    "from hyperopt import tpe\n",
    "\n",
    "import neptune.new as neptune"
   ]
  },
  {
   "cell_type": "code",
   "execution_count": null,
   "id": "a64a9009",
   "metadata": {},
   "outputs": [],
   "source": [
    "import neptune.new as neptune\n",
    "\n",
    "run = neptune.init(\n",
    "    project=\"julia.grzegorowska/ml-project\",\n",
    "    api_token=\"eyJhcGlfYWRkcmVzcyI6Imh0dHBzOi8vYXBwLm5lcHR1bmUuYWkiLCJhcGlfdXJsIjoiaHR0cHM6Ly9hcHAubmVwdHVuZS5haSIsImFwaV9rZXkiOiI0YzMwMDM2OC04YzdlLTQxOGEtYmEzYi0xZTA3ZmQzMjlkNzIifQ==\",\n",
    ")  # your credentials\n",
    "\n",
    "\n",
    "params = {\n",
    "    \"optimizer\": \"Julia\"\n",
    "}\n",
    "run[\"parameters\"] = params\n",
    "\n",
    "\n",
    "def send_data_neptune(data, plot_name):\n",
    "    \"\"\" Sending array with data to neptune\"\"\"\n",
    "\n",
    "    for epoch in range(0, len(data)):\n",
    "      run[plot_name].log(data[epoch])\n",
    "\n",
    "def single_record(record, record_name):\n",
    "    \"\"\" Sending single record to neptune \"\"\"\n",
    "\n",
    "    run[record_name] = record\n",
    "\n",
    "def stop_run():\n",
    "    \"\"\" Stoping run at the end of the program \"\"\"\n",
    "\n",
    "    run.stop()"
   ]
  },
  {
   "cell_type": "code",
   "execution_count": null,
   "id": "583bfee4",
   "metadata": {},
   "outputs": [],
   "source": [
    "os.environ[\"OMP_NUM_THREADS\"] = \"1\""
   ]
  },
  {
   "cell_type": "code",
   "execution_count": null,
   "id": "fa75dfa2",
   "metadata": {},
   "outputs": [],
   "source": [
    "seed = np.random.seed(147)"
   ]
  },
  {
   "cell_type": "code",
   "execution_count": 15,
   "id": "f7522f63",
   "metadata": {},
   "outputs": [],
   "source": [
    "import pandas as pd\n",
    "from io import StringIO\n",
    "import requests"
   ]
  },
  {
   "cell_type": "code",
   "execution_count": 16,
   "id": "bed59049",
   "metadata": {},
   "outputs": [
    {
     "name": "stdout",
     "output_type": "stream",
     "text": [
      "   179.171  102.366  -90318.459  -76354.589  -30178.335   617.269  -1282.834  \\\n",
      "0  106.673  -63.988   14393.611  -23722.852   -9392.469   449.456   -562.289   \n",
      "1   -4.873 -205.671  -28555.498    7933.658    4245.138  1603.993   -914.152   \n",
      "2 -190.940  195.398    7372.475  -57092.149   21447.785   508.022   1256.862   \n",
      "3 -235.533  332.318   47801.547  -48097.081   -8387.428 -1062.866   -511.930   \n",
      "4   18.564 -209.380   54745.617   26773.080  -33558.031  -612.828      7.124   \n",
      "\n",
      "   -1096.950   171.635  -19.206  ...  -43.192  -224.675   12.324  232.965  \\\n",
      "0   -536.924 -1162.814  168.002  ... -390.906   -49.040   94.748 -168.545   \n",
      "1   1449.421  -700.017  460.350  ...   -0.575   162.502  178.716 -403.328   \n",
      "2   1498.347   569.061   16.259  ...   19.651   -18.126  104.865  336.881   \n",
      "3    908.649  -424.938  322.100  ... -302.825  -358.884  -94.971  109.459   \n",
      "4    791.591  -434.847  167.058  ...  -23.183  -751.586  152.258  279.664   \n",
      "\n",
      "    152.504  122.130  107.225   565.803  537.527   -60.706  \n",
      "0   612.119 -216.957   -5.355  -315.510 -145.489 -1254.983  \n",
      "1   504.106  179.730 -186.519   481.705 -404.409  -896.072  \n",
      "2  1799.097  359.658  102.798   242.973 -536.491   316.552  \n",
      "3   189.027 -990.600  125.996 -1309.715 -510.876   768.972  \n",
      "4  -939.900  402.993   51.523 -1476.305 -516.572    80.145  \n",
      "\n",
      "[5 rows x 10000 columns]Warning: string series 'monitoring/stdout' value was longer than 1000 characters and was truncated. This warning is printed only once per series.\n",
      "\n"
     ]
    }
   ],
   "source": [
    "url='https://drive.google.com/file/d/1VFzE4QmJS47QsLOe_C6UeDDK5QGSfd5O/view?usp=sharing'\n",
    "file_id = url.split('/')[-2]\n",
    "dwn_url='https://drive.google.com/uc?export=download&id=' + file_id\n",
    "url2 = requests.get(dwn_url).text\n",
    "csv_raw = StringIO(url2)\n",
    "df = pd.read_csv(csv_raw)\n",
    "print(df.head())"
   ]
  },
  {
   "cell_type": "code",
   "execution_count": null,
   "id": "b60a3af5",
   "metadata": {},
   "outputs": [],
   "source": []
  }
 ],
 "metadata": {
  "kernelspec": {
   "display_name": "Python 3",
   "language": "python",
   "name": "python3"
  },
  "language_info": {
   "codemirror_mode": {
    "name": "ipython",
    "version": 3
   },
   "file_extension": ".py",
   "mimetype": "text/x-python",
   "name": "python",
   "nbconvert_exporter": "python",
   "pygments_lexer": "ipython3",
   "version": "3.8.8"
  }
 },
 "nbformat": 4,
 "nbformat_minor": 5
}
