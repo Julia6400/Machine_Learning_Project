{
 "cells": [
  {
   "cell_type": "markdown",
   "metadata": {},
   "source": [
    "## Neptune"
   ]
  },
  {
   "cell_type": "code",
   "execution_count": 37,
   "metadata": {},
   "outputs": [
    {
     "name": "stdout",
     "output_type": "stream",
     "text": [
      "Requirement already satisfied: hpsklearn in c:\\users\\angel\\anaconda3\\lib\\site-packages (0.1.0)\n",
      "Requirement already satisfied: scikit-learn in c:\\users\\angel\\anaconda3\\lib\\site-packages (from hpsklearn) (0.23.1)\n",
      "Requirement already satisfied: hyperopt in c:\\users\\angel\\anaconda3\\lib\\site-packages (from hpsklearn) (0.2.7)\n",
      "Requirement already satisfied: nose in c:\\users\\angel\\anaconda3\\lib\\site-packages (from hpsklearn) (1.3.7)\n",
      "Requirement already satisfied: numpy in c:\\users\\angel\\anaconda3\\lib\\site-packages (from hpsklearn) (1.18.5)\n",
      "Requirement already satisfied: scipy in c:\\users\\angel\\anaconda3\\lib\\site-packages (from hpsklearn) (1.5.0)\n",
      "Requirement already satisfied: threadpoolctl>=2.0.0 in c:\\users\\angel\\anaconda3\\lib\\site-packages (from scikit-learn->hpsklearn) (2.1.0)\n",
      "Requirement already satisfied: joblib>=0.11 in c:\\users\\angel\\anaconda3\\lib\\site-packages (from scikit-learn->hpsklearn) (0.16.0)\n",
      "Requirement already satisfied: networkx>=2.2 in c:\\users\\angel\\anaconda3\\lib\\site-packages (from hyperopt->hpsklearn) (2.4)\n",
      "Requirement already satisfied: future in c:\\users\\angel\\anaconda3\\lib\\site-packages (from hyperopt->hpsklearn) (0.18.2)\n",
      "Requirement already satisfied: py4j in c:\\users\\angel\\anaconda3\\lib\\site-packages (from hyperopt->hpsklearn) (0.10.9.5)\n",
      "Requirement already satisfied: six in c:\\users\\angel\\anaconda3\\lib\\site-packages (from hyperopt->hpsklearn) (1.15.0)\n",
      "Requirement already satisfied: cloudpickle in c:\\users\\angel\\anaconda3\\lib\\site-packages (from hyperopt->hpsklearn) (1.5.0)\n",
      "Requirement already satisfied: tqdm in c:\\users\\angel\\anaconda3\\lib\\site-packages (from hyperopt->hpsklearn) (4.47.0)\n",
      "Requirement already satisfied: decorator>=4.3.0 in c:\\users\\angel\\anaconda3\\lib\\site-packages (from networkx>=2.2->hyperopt->hpsklearn) (4.4.2)\n",
      "Requirement already satisfied: neptune-optuna in c:\\users\\angel\\anaconda3\\lib\\site-packages (0.9.14)\n",
      "Requirement already satisfied: optuna>=2.4.0 in c:\\users\\angel\\anaconda3\\lib\\site-packages (from neptune-optuna) (2.10.0)\n",
      "Requirement already satisfied: neptune-client>=0.10.0 in c:\\users\\angel\\anaconda3\\lib\\site-packages (from neptune-optuna) (0.16.3)\n",
      "Requirement already satisfied: sklearn in c:\\users\\angel\\anaconda3\\lib\\site-packages (from neptune-optuna) (0.0)\n",
      "Requirement already satisfied: plotly in c:\\users\\angel\\anaconda3\\lib\\site-packages (from neptune-optuna) (5.8.1)\n",
      "Requirement already satisfied: colorlog in c:\\users\\angel\\anaconda3\\lib\\site-packages (from optuna>=2.4.0->neptune-optuna) (6.6.0)\n",
      "Requirement already satisfied: tqdm in c:\\users\\angel\\anaconda3\\lib\\site-packages (from optuna>=2.4.0->neptune-optuna) (4.47.0)\n",
      "Requirement already satisfied: PyYAML in c:\\users\\angel\\anaconda3\\lib\\site-packages (from optuna>=2.4.0->neptune-optuna) (5.3.1)\n",
      "Requirement already satisfied: alembic in c:\\users\\angel\\anaconda3\\lib\\site-packages (from optuna>=2.4.0->neptune-optuna) (1.8.0)\n",
      "Requirement already satisfied: numpy in c:\\users\\angel\\anaconda3\\lib\\site-packages (from optuna>=2.4.0->neptune-optuna) (1.18.5)\n",
      "Requirement already satisfied: packaging>=20.0 in c:\\users\\angel\\anaconda3\\lib\\site-packages (from optuna>=2.4.0->neptune-optuna) (20.4)\n",
      "Requirement already satisfied: scipy!=1.4.0 in c:\\users\\angel\\anaconda3\\lib\\site-packages (from optuna>=2.4.0->neptune-optuna) (1.5.0)\n",
      "Requirement already satisfied: cliff in c:\\users\\angel\\anaconda3\\lib\\site-packages (from optuna>=2.4.0->neptune-optuna) (3.10.1)\n",
      "Requirement already satisfied: cmaes>=0.8.2 in c:\\users\\angel\\anaconda3\\lib\\site-packages (from optuna>=2.4.0->neptune-optuna) (0.8.2)\n",
      "Requirement already satisfied: sqlalchemy>=1.1.0 in c:\\users\\angel\\anaconda3\\lib\\site-packages (from optuna>=2.4.0->neptune-optuna) (1.3.18)\n",
      "Requirement already satisfied: psutil in c:\\users\\angel\\anaconda3\\lib\\site-packages (from neptune-client>=0.10.0->neptune-optuna) (5.7.0)\n",
      "Requirement already satisfied: Pillow>=1.1.6 in c:\\users\\angel\\anaconda3\\lib\\site-packages (from neptune-client>=0.10.0->neptune-optuna) (7.2.0)\n",
      "Requirement already satisfied: oauthlib>=2.1.0 in c:\\users\\angel\\anaconda3\\lib\\site-packages (from neptune-client>=0.10.0->neptune-optuna) (3.2.0)\n",
      "Requirement already satisfied: requests-oauthlib>=1.0.0 in c:\\users\\angel\\anaconda3\\lib\\site-packages (from neptune-client>=0.10.0->neptune-optuna) (1.3.1)\n",
      "Requirement already satisfied: six>=1.12.0 in c:\\users\\angel\\anaconda3\\lib\\site-packages (from neptune-client>=0.10.0->neptune-optuna) (1.15.0)\n",
      "Requirement already satisfied: click>=7.0 in c:\\users\\angel\\anaconda3\\lib\\site-packages (from neptune-client>=0.10.0->neptune-optuna) (7.1.2)\n",
      "Requirement already satisfied: websocket-client!=1.0.0,>=0.35.0 in c:\\users\\angel\\anaconda3\\lib\\site-packages (from neptune-client>=0.10.0->neptune-optuna) (1.3.2)\n",
      "Requirement already satisfied: GitPython>=2.0.8 in c:\\users\\angel\\anaconda3\\lib\\site-packages (from neptune-client>=0.10.0->neptune-optuna) (3.1.27)\n",
      "Requirement already satisfied: bravado in c:\\users\\angel\\anaconda3\\lib\\site-packages (from neptune-client>=0.10.0->neptune-optuna) (11.0.3)\n",
      "Requirement already satisfied: requests>=2.20.0 in c:\\users\\angel\\anaconda3\\lib\\site-packages (from neptune-client>=0.10.0->neptune-optuna) (2.24.0)\n",
      "Requirement already satisfied: urllib3 in c:\\users\\angel\\anaconda3\\lib\\site-packages (from neptune-client>=0.10.0->neptune-optuna) (1.25.9)\n",
      "Requirement already satisfied: future>=0.17.1 in c:\\users\\angel\\anaconda3\\lib\\site-packages (from neptune-client>=0.10.0->neptune-optuna) (0.18.2)\n",
      "Requirement already satisfied: swagger-spec-validator>=2.7.4 in c:\\users\\angel\\anaconda3\\lib\\site-packages (from neptune-client>=0.10.0->neptune-optuna) (2.7.4)\n",
      "Requirement already satisfied: PyJWT in c:\\users\\angel\\anaconda3\\lib\\site-packages (from neptune-client>=0.10.0->neptune-optuna) (2.4.0)\n",
      "Requirement already satisfied: pandas in c:\\users\\angel\\anaconda3\\lib\\site-packages (from neptune-client>=0.10.0->neptune-optuna) (1.0.5)\n",
      "Requirement already satisfied: boto3>=1.16.0 in c:\\users\\angel\\anaconda3\\lib\\site-packages (from neptune-client>=0.10.0->neptune-optuna) (1.24.4)\n",
      "Requirement already satisfied: scikit-learn in c:\\users\\angel\\anaconda3\\lib\\site-packages (from sklearn->neptune-optuna) (0.23.1)\n",
      "Requirement already satisfied: tenacity>=6.2.0 in c:\\users\\angel\\anaconda3\\lib\\site-packages (from plotly->neptune-optuna) (8.0.1)\n",
      "Requirement already satisfied: colorama; sys_platform == \"win32\" in c:\\users\\angel\\anaconda3\\lib\\site-packages (from colorlog->optuna>=2.4.0->neptune-optuna) (0.4.3)\n",
      "Requirement already satisfied: importlib-metadata; python_version < \"3.9\" in c:\\users\\angel\\anaconda3\\lib\\site-packages (from alembic->optuna>=2.4.0->neptune-optuna) (1.7.0)\n",
      "Requirement already satisfied: Mako in c:\\users\\angel\\anaconda3\\lib\\site-packages (from alembic->optuna>=2.4.0->neptune-optuna) (1.2.0)\n",
      "Requirement already satisfied: importlib-resources; python_version < \"3.9\" in c:\\users\\angel\\anaconda3\\lib\\site-packages (from alembic->optuna>=2.4.0->neptune-optuna) (5.7.1)\n",
      "Requirement already satisfied: pyparsing>=2.0.2 in c:\\users\\angel\\anaconda3\\lib\\site-packages (from packaging>=20.0->optuna>=2.4.0->neptune-optuna) (2.4.7)\n",
      "Requirement already satisfied: cmd2>=1.0.0 in c:\\users\\angel\\anaconda3\\lib\\site-packages (from cliff->optuna>=2.4.0->neptune-optuna) (2.4.1)\n",
      "Requirement already satisfied: autopage>=0.4.0 in c:\\users\\angel\\anaconda3\\lib\\site-packages (from cliff->optuna>=2.4.0->neptune-optuna) (0.5.1)\n",
      "Requirement already satisfied: stevedore>=2.0.1 in c:\\users\\angel\\anaconda3\\lib\\site-packages (from cliff->optuna>=2.4.0->neptune-optuna) (3.5.0)\n",
      "Requirement already satisfied: PrettyTable>=0.7.2 in c:\\users\\angel\\anaconda3\\lib\\site-packages (from cliff->optuna>=2.4.0->neptune-optuna) (3.3.0)\n",
      "Requirement already satisfied: pbr!=2.1.0,>=2.0.0 in c:\\users\\angel\\anaconda3\\lib\\site-packages (from cliff->optuna>=2.4.0->neptune-optuna) (5.9.0)\n",
      "Requirement already satisfied: gitdb<5,>=4.0.1 in c:\\users\\angel\\anaconda3\\lib\\site-packages (from GitPython>=2.0.8->neptune-client>=0.10.0->neptune-optuna) (4.0.9)\n",
      "Requirement already satisfied: monotonic in c:\\users\\angel\\anaconda3\\lib\\site-packages (from bravado->neptune-client>=0.10.0->neptune-optuna) (1.6)\n",
      "Requirement already satisfied: python-dateutil in c:\\users\\angel\\anaconda3\\lib\\site-packages (from bravado->neptune-client>=0.10.0->neptune-optuna) (2.8.1)\n",
      "Requirement already satisfied: simplejson in c:\\users\\angel\\anaconda3\\lib\\site-packages (from bravado->neptune-client>=0.10.0->neptune-optuna) (3.17.6)\n",
      "Requirement already satisfied: msgpack in c:\\users\\angel\\anaconda3\\lib\\site-packages (from bravado->neptune-client>=0.10.0->neptune-optuna) (1.0.0)\n",
      "Requirement already satisfied: bravado-core>=5.16.1 in c:\\users\\angel\\anaconda3\\lib\\site-packages (from bravado->neptune-client>=0.10.0->neptune-optuna) (5.17.0)\n",
      "Requirement already satisfied: typing-extensions in c:\\users\\angel\\anaconda3\\lib\\site-packages (from bravado->neptune-client>=0.10.0->neptune-optuna) (3.7.4.2)\n",
      "Requirement already satisfied: idna<3,>=2.5 in c:\\users\\angel\\anaconda3\\lib\\site-packages (from requests>=2.20.0->neptune-client>=0.10.0->neptune-optuna) (2.10)\n",
      "Requirement already satisfied: certifi>=2017.4.17 in c:\\users\\angel\\anaconda3\\lib\\site-packages (from requests>=2.20.0->neptune-client>=0.10.0->neptune-optuna) (2020.6.20)\n",
      "Requirement already satisfied: chardet<4,>=3.0.2 in c:\\users\\angel\\anaconda3\\lib\\site-packages (from requests>=2.20.0->neptune-client>=0.10.0->neptune-optuna) (3.0.4)\n",
      "Requirement already satisfied: jsonschema in c:\\users\\angel\\anaconda3\\lib\\site-packages (from swagger-spec-validator>=2.7.4->neptune-client>=0.10.0->neptune-optuna) (3.2.0)\n",
      "Requirement already satisfied: pytz>=2017.2 in c:\\users\\angel\\anaconda3\\lib\\site-packages (from pandas->neptune-client>=0.10.0->neptune-optuna) (2020.1)\n",
      "Requirement already satisfied: s3transfer<0.7.0,>=0.6.0 in c:\\users\\angel\\anaconda3\\lib\\site-packages (from boto3>=1.16.0->neptune-client>=0.10.0->neptune-optuna) (0.6.0)\n",
      "Requirement already satisfied: jmespath<2.0.0,>=0.7.1 in c:\\users\\angel\\anaconda3\\lib\\site-packages (from boto3>=1.16.0->neptune-client>=0.10.0->neptune-optuna) (1.0.0)\n",
      "Requirement already satisfied: botocore<1.28.0,>=1.27.4 in c:\\users\\angel\\anaconda3\\lib\\site-packages (from boto3>=1.16.0->neptune-client>=0.10.0->neptune-optuna) (1.27.4)\n",
      "Requirement already satisfied: threadpoolctl>=2.0.0 in c:\\users\\angel\\anaconda3\\lib\\site-packages (from scikit-learn->sklearn->neptune-optuna) (2.1.0)\n",
      "Requirement already satisfied: joblib>=0.11 in c:\\users\\angel\\anaconda3\\lib\\site-packages (from scikit-learn->sklearn->neptune-optuna) (0.16.0)\n",
      "Requirement already satisfied: zipp>=0.5 in c:\\users\\angel\\anaconda3\\lib\\site-packages (from importlib-metadata; python_version < \"3.9\"->alembic->optuna>=2.4.0->neptune-optuna) (3.1.0)\n",
      "Requirement already satisfied: MarkupSafe>=0.9.2 in c:\\users\\angel\\anaconda3\\lib\\site-packages (from Mako->alembic->optuna>=2.4.0->neptune-optuna) (1.1.1)\n",
      "Requirement already satisfied: pyreadline3; sys_platform == \"win32\" in c:\\users\\angel\\anaconda3\\lib\\site-packages (from cmd2>=1.0.0->cliff->optuna>=2.4.0->neptune-optuna) (3.4.1)\n",
      "Requirement already satisfied: pyperclip>=1.6 in c:\\users\\angel\\anaconda3\\lib\\site-packages (from cmd2>=1.0.0->cliff->optuna>=2.4.0->neptune-optuna) (1.8.2)\n",
      "Requirement already satisfied: attrs>=16.3.0 in c:\\users\\angel\\anaconda3\\lib\\site-packages (from cmd2>=1.0.0->cliff->optuna>=2.4.0->neptune-optuna) (19.3.0)\n"
     ]
    },
    {
     "name": "stdout",
     "output_type": "stream",
     "text": [
      "Requirement already satisfied: wcwidth>=0.1.7 in c:\\users\\angel\\anaconda3\\lib\\site-packages (from cmd2>=1.0.0->cliff->optuna>=2.4.0->neptune-optuna) (0.2.5)\n",
      "Requirement already satisfied: smmap<6,>=3.0.1 in c:\\users\\angel\\anaconda3\\lib\\site-packages (from gitdb<5,>=4.0.1->GitPython>=2.0.8->neptune-client>=0.10.0->neptune-optuna) (5.0.0)\n",
      "Requirement already satisfied: jsonref in c:\\users\\angel\\anaconda3\\lib\\site-packages (from bravado-core>=5.16.1->bravado->neptune-client>=0.10.0->neptune-optuna) (0.2)\n",
      "Requirement already satisfied: setuptools in c:\\users\\angel\\anaconda3\\lib\\site-packages (from jsonschema->swagger-spec-validator>=2.7.4->neptune-client>=0.10.0->neptune-optuna) (49.2.0.post20200714)\n",
      "Requirement already satisfied: pyrsistent>=0.14.0 in c:\\users\\angel\\anaconda3\\lib\\site-packages (from jsonschema->swagger-spec-validator>=2.7.4->neptune-client>=0.10.0->neptune-optuna) (0.16.0)\n"
     ]
    }
   ],
   "source": [
    "!pip install hpsklearn\n",
    "!pip install --upgrade --quiet neptune-client\n",
    "!pip install neptune-optuna"
   ]
  },
  {
   "cell_type": "code",
   "execution_count": 46,
   "metadata": {},
   "outputs": [],
   "source": [
    "import os\n",
    "from collections import Counter\n",
    "\n",
    "import numpy as np\n",
    "import pandas as pd\n",
    "import seaborn as sns\n",
    "\n",
    "import matplotlib.pyplot as plt\n",
    "import matplotlib.ticker as mtick\n",
    "import matplotlib.pyplot as plt\n",
    "\n",
    "from sklearn.pipeline import Pipeline\n",
    "from sklearn.preprocessing import StandardScaler, MinMaxScaler\n",
    "from sklearn.decomposition import PCA\n",
    "from sklearn.model_selection import GridSearchCV, cross_val_score\n",
    "from sklearn.model_selection import RepeatedStratifiedKFold, train_test_split\n",
    "from sklearn.feature_selection import SelectKBest, f_classif, RFE\n",
    "\n",
    "from sklearn.svm import SVC, LinearSVC\n",
    "from sklearn.linear_model import LogisticRegression\n",
    "from sklearn.neighbors import KNeighborsClassifier\n",
    "from sklearn.neural_network import MLPClassifier\n",
    "from sklearn.ensemble import AdaBoostClassifier, GradientBoostingClassifier\n",
    "from sklearn.ensemble import RandomForestClassifier, ExtraTreesClassifier \n",
    "from sklearn.naive_bayes import GaussianNB\n",
    "\n",
    "from sklearn.metrics import f1_score\n",
    "\n",
    "from imblearn.over_sampling import RandomOverSampler\n",
    "from imblearn.under_sampling import RandomUnderSampler\n",
    "from imblearn.pipeline import Pipeline\n",
    "\n",
    "from hpsklearn import HyperoptEstimator\n",
    "from hpsklearn import any_classifier\n",
    "from hpsklearn import any_preprocessing\n",
    "from hyperopt import tpe\n",
    "\n",
    "import neptune.new as neptune"
   ]
  },
  {
   "cell_type": "code",
   "execution_count": 47,
   "metadata": {},
   "outputs": [
    {
     "name": "stdout",
     "output_type": "stream",
     "text": [
      "https://app.neptune.ai/julia.grzegorowska/ml-project/e/MLPROJ-7\n",
      "Remember to stop your run once you’ve finished logging your metadata (https://docs.neptune.ai/api-reference/run#.stop). It will be stopped automatically only when the notebook kernel/interactive console is terminated.\n"
     ]
    }
   ],
   "source": [
    "import neptune.new as neptune\n",
    "\n",
    "run = neptune.init(\n",
    "    project=\"julia.grzegorowska/ml-project\",\n",
    "    api_token=\"eyJhcGlfYWRkcmVzcyI6Imh0dHBzOi8vYXBwLm5lcHR1bmUuYWkiLCJhcGlfdXJsIjoiaHR0cHM6Ly9hcHAubmVwdHVuZS5haSIsImFwaV9rZXkiOiI0YzMwMDM2OC04YzdlLTQxOGEtYmEzYi0xZTA3ZmQzMjlkNzIifQ==\",\n",
    ")\n",
    "\n",
    "params = { \"optimizer\": \"Julia\"}\n",
    "run[\"parameters\"] = params\n",
    "\n",
    "def send_data_neptune(data, plot_name):\n",
    "    \"\"\" Sending array with data to neptune\"\"\"\n",
    "    for epoch in range(0, len(data)):\n",
    "      run[plot_name].log(data[epoch])\n",
    "\n",
    "def single_record(record, record_name):\n",
    "    \"\"\" Sending single record to neptune \"\"\"\n",
    "    run[record_name] = record\n",
    "\n",
    "def stop_run():\n",
    "    \"\"\" Stoping run at the end of the program \"\"\"\n",
    "    run.stop()"
   ]
  },
  {
   "cell_type": "markdown",
   "metadata": {},
   "source": [
    "## Data Standardization\n"
   ]
  },
  {
   "cell_type": "code",
   "execution_count": 78,
   "metadata": {},
   "outputs": [],
   "source": [
    "test_data = pd.read_csv(\"Data/test_data.csv\", header=None)\n",
    "train_data = pd.read_csv(\"Data/train_data.csv\",header=None)\n",
    "train_labels = pd.read_csv(\"Data/train_labels.csv\", header=None)"
   ]
  },
  {
   "cell_type": "code",
   "execution_count": 80,
   "metadata": {},
   "outputs": [],
   "source": [
    "std = StandardScaler()\n",
    "\n",
    "train_std_X = std.fit_transform(train_data)\n",
    "test_std_X = std.fit_transform(test_data)\n"
   ]
  },
  {
   "cell_type": "code",
   "execution_count": 81,
   "metadata": {},
   "outputs": [
    {
     "data": {
      "text/plain": [
       "array([[ 0.95660292, -2.09099486, -0.77931943, ...,  0.97515449,\n",
       "        -0.29931377,  1.71555315],\n",
       "       [ 0.08178981,  0.38006341, -0.00743089, ..., -1.46515745,\n",
       "         0.42615765, -1.34078292],\n",
       "       [ 0.8440928 , -0.98910904,  0.09260166, ..., -1.9793275 ,\n",
       "         1.08285495,  1.27838984],\n",
       "       ...,\n",
       "       [ 0.21857525, -0.77118474, -0.38308582, ...,  1.00854261,\n",
       "        -0.45518027, -2.68584292],\n",
       "       [ 2.88823113,  0.41804346, -0.90701198, ...,  0.69995407,\n",
       "         0.49753412,  0.21998097],\n",
       "       [-0.69910586,  0.55454642, -0.5687569 , ..., -1.05816134,\n",
       "        -1.54371965, -1.09490866]])"
      ]
     },
     "execution_count": 81,
     "metadata": {},
     "output_type": "execute_result"
    }
   ],
   "source": [
    "train_std_X"
   ]
  },
  {
   "cell_type": "code",
   "execution_count": 82,
   "metadata": {},
   "outputs": [
    {
     "data": {
      "text/plain": [
       "array([[ 0.61582363,  0.37491104, -2.08067563, ...,  0.71836586,\n",
       "         0.86629354, -0.10144485],\n",
       "       [ 0.35667394, -0.42330546,  0.31327079, ..., -0.3899396 ,\n",
       "        -0.23927748, -1.63772235],\n",
       "       [-0.04205583, -1.10314309, -0.66863956, ...,  0.61260743,\n",
       "        -0.65838105, -1.17603139],\n",
       "       ...,\n",
       "       [-0.6574014 , -0.6157557 , -1.13091069, ...,  1.46662386,\n",
       "         0.46339276,  1.86944689],\n",
       "       [-1.19298386,  0.07635118,  0.29608954, ...,  1.95800225,\n",
       "         0.1950755 ,  0.1470618 ],\n",
       "       [-0.75052271, -0.93717947,  1.06542746, ..., -0.88280821,\n",
       "        -1.29259975,  0.87074824]])"
      ]
     },
     "execution_count": 82,
     "metadata": {},
     "output_type": "execute_result"
    }
   ],
   "source": [
    "test_std_X"
   ]
  },
  {
   "cell_type": "code",
   "execution_count": 85,
   "metadata": {},
   "outputs": [],
   "source": [
    "train_X, test_X, train_y, test_y = train_test_split(train_std_X, train_labels, test_size=0.3, random_state=2)"
   ]
  },
  {
   "cell_type": "markdown",
   "metadata": {},
   "source": [
    "## Problem: unbalanced dataset\n",
    "Possible solutions: Combined under and oversampling"
   ]
  },
  {
   "cell_type": "code",
   "execution_count": 86,
   "metadata": {},
   "outputs": [
    {
     "data": {
      "image/png": "[encoded data removed]",
      "text/plain": [
       "<Figure size 432x288 with 1 Axes>"
      ]
     },
     "metadata": {
      "needs_background": "light"
     },
     "output_type": "display_data"
    }
   ],
   "source": [
    "temp_df = (train_labels.groupby(0).size().sort_values(ascending=False) / train_labels.groupby(0).size().sort_values(ascending=False).sum())*100\n",
    "ax = temp_df.plot(kind='bar')\n",
    "ax.bar_label(ax.containers[0])  \n",
    "plt.show()"
   ]
  },
  {
   "cell_type": "code",
   "execution_count": 87,
   "metadata": {},
   "outputs": [],
   "source": [
    "def combined_random_sampling(X, y: np.array) -> list:\n",
    "    \n",
    "    oversampling = RandomOverSampler(random_state=42)\n",
    "    undersampling = RandomUnderSampler(random_state=42, replacement=True)\n",
    "\n",
    "    pipeline = Pipeline(steps=[('o', oversampling), ('u', undersampling)])\n",
    "\n",
    "    X_resampled, y_resampled = pipeline.fit_resample(X, y)\n",
    "    \n",
    "    return [X_resampled, y_resampled]"
   ]
  },
  {
   "cell_type": "code",
   "execution_count": 88,
   "metadata": {},
   "outputs": [],
   "source": [
    "X_resampled, y_resampled = combined_random_sampling(train_X, train_y)"
   ]
  },
  {
   "cell_type": "markdown",
   "metadata": {},
   "source": [
    "def save_data(train_X, test_X, train_y: np.array) -> None:\n",
    "    \"\"\"Save to npy file\"\"\"\n",
    "    \n",
    "    np.save('processed_train_X.npy', train_X)\n",
    "    np.save('processed_test_X.npy', test_X)\n",
    "    np.save('processed_train_y.npy', train_y)\n",
    "    \n",
    "    print(\"Saving has been completed.\")"
   ]
  },
  {
   "cell_type": "markdown",
   "metadata": {},
   "source": [
    "save_data(X_resampled, test_X, y_resampled)"
   ]
  },
  {
   "cell_type": "code",
   "execution_count": 89,
   "metadata": {},
   "outputs": [
    {
     "data": {
      "text/html": [
       "<div>\n",
       "<style scoped>\n",
       "    .dataframe tbody tr th:only-of-type {\n",
       "        vertical-align: middle;\n",
       "    }\n",
       "\n",
       "    .dataframe tbody tr th {\n",
       "        vertical-align: top;\n",
       "    }\n",
       "\n",
       "    .dataframe thead th {\n",
       "        text-align: right;\n",
       "    }\n",
       "</style>\n",
       "<table border=\"1\" class=\"dataframe\">\n",
       "  <thead>\n",
       "    <tr style=\"text-align: right;\">\n",
       "      <th></th>\n",
       "      <th>0</th>\n",
       "    </tr>\n",
       "  </thead>\n",
       "  <tbody>\n",
       "    <tr>\n",
       "      <th>0</th>\n",
       "      <td>-1</td>\n",
       "    </tr>\n",
       "    <tr>\n",
       "      <th>1</th>\n",
       "      <td>-1</td>\n",
       "    </tr>\n",
       "    <tr>\n",
       "      <th>2</th>\n",
       "      <td>-1</td>\n",
       "    </tr>\n",
       "    <tr>\n",
       "      <th>3</th>\n",
       "      <td>-1</td>\n",
       "    </tr>\n",
       "    <tr>\n",
       "      <th>4</th>\n",
       "      <td>-1</td>\n",
       "    </tr>\n",
       "    <tr>\n",
       "      <th>...</th>\n",
       "      <td>...</td>\n",
       "    </tr>\n",
       "    <tr>\n",
       "      <th>4711</th>\n",
       "      <td>1</td>\n",
       "    </tr>\n",
       "    <tr>\n",
       "      <th>4712</th>\n",
       "      <td>1</td>\n",
       "    </tr>\n",
       "    <tr>\n",
       "      <th>4713</th>\n",
       "      <td>1</td>\n",
       "    </tr>\n",
       "    <tr>\n",
       "      <th>4714</th>\n",
       "      <td>1</td>\n",
       "    </tr>\n",
       "    <tr>\n",
       "      <th>4715</th>\n",
       "      <td>1</td>\n",
       "    </tr>\n",
       "  </tbody>\n",
       "</table>\n",
       "<p>4716 rows × 1 columns</p>\n",
       "</div>"
      ],
      "text/plain": [
       "      0\n",
       "0    -1\n",
       "1    -1\n",
       "2    -1\n",
       "3    -1\n",
       "4    -1\n",
       "...  ..\n",
       "4711  1\n",
       "4712  1\n",
       "4713  1\n",
       "4714  1\n",
       "4715  1\n",
       "\n",
       "[4716 rows x 1 columns]"
      ]
     },
     "execution_count": 89,
     "metadata": {},
     "output_type": "execute_result"
    }
   ],
   "source": [
    "y_resampled"
   ]
  },
  {
   "cell_type": "code",
   "execution_count": 90,
   "metadata": {},
   "outputs": [
    {
     "data": {
      "image/png": "[encoded data removed]",
      "text/plain": [
       "<Figure size 432x288 with 1 Axes>"
      ]
     },
     "metadata": {
      "needs_background": "light"
     },
     "output_type": "display_data"
    }
   ],
   "source": [
    "temp_df = (y_resampled.groupby(0).size().sort_values(ascending=False) / y_resampled.groupby(0).size().sort_values(ascending=False).sum())*100\n",
    "ax = temp_df.plot(kind='bar')\n",
    "ax.bar_label(ax.containers[0])  \n",
    "plt.show()"
   ]
  },
  {
   "cell_type": "code",
   "execution_count": null,
   "metadata": {},
   "outputs": [],
   "source": [
    "df = pd.DataFrame(X_resampled, index=None, columns=None)"
   ]
  },
  {
   "cell_type": "code",
   "execution_count": null,
   "metadata": {},
   "outputs": [],
   "source": [
    "def correlation_heatmap(data: pd.DataFrame) -> plt:\n",
    "    \"\"\"Correlation heatmap for preprocessed train data\"\"\"\n",
    "    \n",
    "    plt.figure(figsize=(16.9, 8))\n",
    "    heat_mask = np.triu(np.ones_like(data.corr(), dtype=bool))\n",
    "    sns.heatmap(data.corr(), mask=heat_mask, vmin=-1, vmax=1, annot=True)\n",
    "    plt.title(\"Correlation heatmap for preprocessed train data\")\n",
    "    \n",
    "    return plt.show()"
   ]
  },
  {
   "cell_type": "code",
   "execution_count": null,
   "metadata": {},
   "outputs": [],
   "source": [
    "correlation_heatmap(df)"
   ]
  },
  {
   "cell_type": "code",
   "execution_count": null,
   "metadata": {},
   "outputs": [],
   "source": [
    "X_train, X_test, y_train, y_test = train_test_split(x_resampled, y_resampled, test_size=0.25, random_state=seed)"
   ]
  },
  {
   "cell_type": "code",
   "execution_count": 94,
   "metadata": {},
   "outputs": [],
   "source": [
    "def pipe_basic_model(x_1: np.array, x_2: np.array, y_1: np.array, y_2: np.array) -> None:\n",
    "    \"\"\"\n",
    "    Base line model picking with repeated skf, GridSearchCV in pipeline\n",
    "    :param x_1: np.array: train of data after over and undersampling\n",
    "    :param x_2: np.array: test of data after over and undersampling\n",
    "    :param y_1: np.array: train of values after over and undersampling\n",
    "    :param y_2: np.array: test of values after over and undersampling\n",
    "    :return: None\n",
    "    \"\"\"\n",
    "    \n",
    "    pipe = Pipeline([(\"classifier\", SVC(kernel=\"linear\", C=1, random_state=seed))])\n",
    "    \n",
    "    search_space = [\n",
    "        {\"classifier\": [SVC(random_state=seed)]},\n",
    "        {\"classifier\": [LinearSVC(random_state=seed)]},\n",
    "        {\"classifier\": [LogisticRegression(random_state=seed)]},\n",
    "        {\"classifier\": [KNeighborsClassifier()]},\n",
    "        {\"classifier\": [MLPClassifier(random_state=seed)]},\n",
    "        {\"classifier\": [AdaBoostClassifier(random_state=seed)]},\n",
    "        {\"classifier\": [GradientBoostingClassifier(random_state=seed)]},\n",
    "        {\"classifier\": [RandomForestClassifier(random_state=seed)]},\n",
    "        {\"classifier\": [ExtraTreesClassifier(random_state=seed)]},\n",
    "        {\"classifier\": [AdaBoostClassifier(random_state=seed)]},\n",
    "        {\"classifier\": [GaussianNB()]}\n",
    "    ]\n",
    "    \n",
    "    rskf = RepeatedStratifiedKFold(n_splits=10, n_repeats=5, random_state=seed)\n",
    "    gridsearch = GridSearchCV(pipe, search_space, cv=rskf, verbose=1, n_jobs=-1)\n",
    "    best_model = gridsearch.fit(x_1, y_1)\n",
    "    y_pred = best_model.predict(x_2)\n",
    "    \n",
    "    print(f\"\\nBest model: {best_model.best_estimator_.get_params()['classifier']}\")\n",
    "    print(\"\\nMicro-averaged F1 score on test set: \"\n",
    "          \"%0.3f\" % f1_score(y_2, y_pred, average='micro'))\n",
    "    \n",
    "    single_record(f1_score(y_2, y_pred, average='micro'), \"f1-score\")"
   ]
  },
  {
   "cell_type": "code",
   "execution_count": null,
   "metadata": {},
   "outputs": [],
   "source": [
    "pipe_basic_model(X_train, X_test, y_train, y_test)"
   ]
  },
  {
   "cell_type": "code",
   "execution_count": null,
   "metadata": {},
   "outputs": [],
   "source": [
    "def hyperopt_model(x_1: np.array, x_2: np.array, y_1: np.array, y_2: np.array) -> None:\n",
    "    \"\"\"\n",
    "    Hyperopt model picking\n",
    "    :param x_1: np.array: train of data after over and undersampling\n",
    "    :param x_2: np.array: test of data after over and undersampling\n",
    "    :param y_1: np.array: train of values after over and undersampling\n",
    "    :param y_2: np.array: test of values after over and undersampling\n",
    "    :return: None\n",
    "    \"\"\"\n",
    "\n",
    "    model = HyperoptEstimator(\n",
    "        classifier=any_classifier(\"cla\"),\n",
    "        preprocessing=any_preprocessing(\"pre\"),\n",
    "        algo=tpe.suggest,\n",
    "        max_evals=10,\n",
    "        trial_timeout=30\n",
    "    )\n",
    "    \n",
    "    model.fit(x_1, y_1)\n",
    "    y_pred = model.predict(x_2)\n",
    "    \n",
    "    print(f\"\\nBest model: {model.best_model()}\")\n",
    "    print(\"\\nMicro-averaged F1 score on test set: \"\n",
    "          \"%0.3f\" % f1_score(y_2, y_pred, average='micro'))\n",
    "    \n",
    "    send_data_neptune(y_pred, \"y_pred\")\n",
    "    single_record(f1_score(y_2, y_pred, average='micro'), \"Micro-averaged F1 Score\")"
   ]
  },
  {
   "cell_type": "code",
   "execution_count": null,
   "metadata": {},
   "outputs": [],
   "source": [
    "hyperopt_model(X_train, X_test, y_train, y_test)"
   ]
  },
  {
   "cell_type": "code",
   "execution_count": null,
   "metadata": {},
   "outputs": [],
   "source": [
    "stop_run()"
   ]
  },
  {
   "cell_type": "code",
   "execution_count": null,
   "metadata": {},
   "outputs": [],
   "source": []
  }
 ],
 "metadata": {
  "kernelspec": {
   "display_name": "mlproject",
   "language": "python",
   "name": "mlproject"
  },
  "language_info": {
   "codemirror_mode": {
    "name": "ipython",
    "version": 3
   },
   "file_extension": ".py",
   "mimetype": "text/x-python",
   "name": "python",
   "nbconvert_exporter": "python",
   "pygments_lexer": "ipython3",
   "version": "3.9.7"
  }
 },
 "nbformat": 4,
 "nbformat_minor": 4
}
